{
 "cells": [
  {
   "cell_type": "code",
   "execution_count": null,
   "metadata": {
    "id": "pTs9BpWNOJ_9"
   },
   "outputs": [],
   "source": [
    "!python --version"
   ]
  },
  {
   "cell_type": "markdown",
   "metadata": {
    "id": "sxnzZ2aIOZCW"
   },
   "source": [
    "# Введение"
   ]
  },
  {
   "cell_type": "code",
   "execution_count": null,
   "metadata": {
    "id": "MPCLi7brOR7W"
   },
   "outputs": [],
   "source": [
    "dir()"
   ]
  },
  {
   "cell_type": "code",
   "execution_count": null,
   "metadata": {},
   "outputs": [],
   "source": [
    "vars()['_i1']"
   ]
  },
  {
   "cell_type": "code",
   "execution_count": null,
   "metadata": {
    "id": "_1ux-bAEOTbU"
   },
   "outputs": [],
   "source": [
    "a = '42'\n",
    "dir()"
   ]
  },
  {
   "cell_type": "code",
   "execution_count": null,
   "metadata": {
    "id": "w77p89QdOTuT"
   },
   "outputs": [],
   "source": [
    "del a\n",
    "dir()"
   ]
  },
  {
   "cell_type": "code",
   "execution_count": null,
   "metadata": {},
   "outputs": [],
   "source": [
    "def f(b: int):\n",
    "    print('Hello, world')\n",
    "    \n",
    "def f1(a: str):\n",
    "    \"\"\"\n",
    "    We want to see this description\n",
    "    \"\"\"\n",
    "    print('Hello')"
   ]
  },
  {
   "cell_type": "code",
   "execution_count": null,
   "metadata": {
    "id": "KKtZcP-sOT-p"
   },
   "outputs": [],
   "source": [
    "help(print)"
   ]
  },
  {
   "cell_type": "code",
   "execution_count": null,
   "metadata": {},
   "outputs": [],
   "source": [
    "help(f)"
   ]
  },
  {
   "cell_type": "code",
   "execution_count": null,
   "metadata": {},
   "outputs": [],
   "source": [
    "help(f1)"
   ]
  },
  {
   "cell_type": "code",
   "execution_count": null,
   "metadata": {
    "id": "p4toaRb0Qo_K"
   },
   "outputs": [],
   "source": [
    "a = 1 + 2\n",
    "b = a + a\n",
    "\n",
    "b = a * 3\n",
    "print(b)\n",
    "b = a * 4\n",
    "print(b)\n",
    "b = a * 5\n",
    "print(b)"
   ]
  },
  {
   "cell_type": "code",
   "execution_count": null,
   "metadata": {},
   "outputs": [],
   "source": [
    "a = 1\n",
    "b = [1]"
   ]
  },
  {
   "cell_type": "code",
   "execution_count": null,
   "metadata": {},
   "outputs": [],
   "source": [
    "print(id(a))\n",
    "print(id(1))"
   ]
  },
  {
   "cell_type": "code",
   "execution_count": null,
   "metadata": {},
   "outputs": [],
   "source": [
    "print(id(b))\n",
    "print(id([1]))"
   ]
  },
  {
   "cell_type": "markdown",
   "metadata": {
    "id": "vFMw3Gs_RPS5"
   },
   "source": [
    "# Типы данных\n",
    "\n",
    "Неизменяемые типы (immutable):\n",
    "\n",
    "*   Числовые (int, float, complex)\n",
    "*   bool\n",
    "*   None (NoneType)\n",
    "*   Символьные строки (str)\n",
    "*   Кортежи (tuple)\n",
    "*   Frozenset\n",
    "\n",
    "Изменяемые типы (mutable):\n",
    "\n",
    "*   Списки (list)\n",
    "*   Множества (set)\n",
    "*   Словари (dict)"
   ]
  },
  {
   "cell_type": "markdown",
   "metadata": {
    "id": "7qx2xOFfSjeV"
   },
   "source": [
    "## None"
   ]
  },
  {
   "cell_type": "code",
   "execution_count": null,
   "metadata": {
    "id": "YGwVExzSSjP-"
   },
   "outputs": [],
   "source": [
    "db = None"
   ]
  },
  {
   "cell_type": "code",
   "execution_count": null,
   "metadata": {
    "id": "Od-BqntSQ--B"
   },
   "outputs": [],
   "source": [
    "None"
   ]
  },
  {
   "cell_type": "code",
   "execution_count": null,
   "metadata": {
    "id": "TqyfpWfMPm_J"
   },
   "outputs": [],
   "source": [
    "print(db)"
   ]
  },
  {
   "cell_type": "code",
   "execution_count": null,
   "metadata": {
    "id": "Rt0-1kIBPm6j"
   },
   "outputs": [],
   "source": [
    "type(None)"
   ]
  },
  {
   "cell_type": "code",
   "execution_count": null,
   "metadata": {
    "id": "a36_R273Pm4K"
   },
   "outputs": [],
   "source": [
    "a = None\n",
    "b = None\n",
    "\n",
    "a is b"
   ]
  },
  {
   "cell_type": "code",
   "execution_count": null,
   "metadata": {
    "id": "d_Vb9F2GU96Z"
   },
   "outputs": [],
   "source": [
    "print(a is None)\n",
    "print(a == None) # лучше так не делать"
   ]
  },
  {
   "cell_type": "code",
   "execution_count": null,
   "metadata": {
    "id": "lNjoJj0qVPRe"
   },
   "outputs": [],
   "source": [
    "# Почему лучше использовать is\n",
    "\n",
    "class MyClass:\n",
    "    def __eq__(self, my_object):\n",
    "        # Просто вернем True\n",
    "\n",
    "        return True\n",
    "\n",
    "my_class = MyClass()\n",
    "if my_class is None:\n",
    "    print('my_class is None, using the is keyword')\n",
    "else:\n",
    "    print('my_class is not None, using the is keyword')\n",
    "\n",
    "if my_class == None:\n",
    "    print('my_class is None, using the == syntax')\n",
    "else:\n",
    "    print('my_class is not None, using the == syntax')"
   ]
  },
  {
   "cell_type": "markdown",
   "metadata": {
    "id": "JlVmASHXS1dl"
   },
   "source": [
    "## Containers"
   ]
  },
  {
   "cell_type": "code",
   "execution_count": null,
   "metadata": {
    "id": "91dANYtqQdwZ"
   },
   "outputs": [],
   "source": [
    "s = 'abcdef'                # str\n",
    "l = [1, 2, 2.5, 'abc']      # list\n",
    "t = (42, 41, True)          # tuple\n",
    "se = {1, 2, 3}              # set\n",
    "d = {1: 2, 'key': 'value'}  # dict"
   ]
  },
  {
   "cell_type": "code",
   "execution_count": null,
   "metadata": {
    "id": "3IkG-OhbS1Lh"
   },
   "outputs": [],
   "source": [
    "list(d.keys()), list(d.values())"
   ]
  },
  {
   "cell_type": "code",
   "execution_count": null,
   "metadata": {
    "id": "xeKjZrxgS1I0"
   },
   "outputs": [],
   "source": [
    "print(type(s))\n",
    "print(type(l))\n",
    "print(type(t))\n",
    "print(type(se))\n",
    "print(type(d))"
   ]
  },
  {
   "cell_type": "code",
   "execution_count": null,
   "metadata": {
    "id": "41xK66YZTPmT"
   },
   "outputs": [],
   "source": [
    "l = [1, 2, 2.5, 'abc']\n",
    "l"
   ]
  },
  {
   "cell_type": "code",
   "execution_count": null,
   "metadata": {
    "id": "uxoYg7hhTZIq"
   },
   "outputs": [],
   "source": [
    "l[1] = 378272\n",
    "print(l)\n",
    "l[-1] = 'cba'\n",
    "print(l)\n",
    "\n",
    "len(l)"
   ]
  },
  {
   "cell_type": "code",
   "execution_count": null,
   "metadata": {
    "id": "WKQ6ShRLTdSi"
   },
   "outputs": [],
   "source": [
    "string = 'sojfbgisehbgoh piau npseunrb'\n",
    "print(id(string))\n",
    "string = string[:6]\n",
    "print(id(string))\n",
    "\n",
    "print('Strings are immutable objects!')"
   ]
  },
  {
   "cell_type": "code",
   "execution_count": null,
   "metadata": {
    "id": "_OcRNHPoTdPj"
   },
   "outputs": [],
   "source": [
    "t = ('i', 'cannot', 'be', 'modified')\n",
    "t[1] = 'can'"
   ]
  },
  {
   "cell_type": "code",
   "execution_count": null,
   "metadata": {
    "id": "zecv9Xw3TdMt"
   },
   "outputs": [],
   "source": [
    "empty_tuple = ()\n",
    "type(empty_tuple)"
   ]
  },
  {
   "cell_type": "code",
   "execution_count": null,
   "metadata": {
    "id": "M8BBLnO9TsEC"
   },
   "outputs": [],
   "source": [
    "# Dict\n",
    "\n",
    "d = {'a': 1, 'b': 2, 'c': 3}\n",
    "d['b'] = 4  # mutable\n",
    "d"
   ]
  },
  {
   "cell_type": "code",
   "execution_count": null,
   "metadata": {
    "id": "yoI_8VP2TsBh"
   },
   "outputs": [],
   "source": [
    "# Set\n",
    "\n",
    "{3, 3, 3, 1, 1, 1, 2, 2, 2, 3, 3, 3}"
   ]
  },
  {
   "cell_type": "code",
   "execution_count": null,
   "metadata": {
    "id": "5MWBKeQWTr-6"
   },
   "outputs": [],
   "source": [
    "empty_what = {}\n",
    "type(empty_what)"
   ]
  },
  {
   "cell_type": "code",
   "execution_count": null,
   "metadata": {
    "id": "mbdOH8N2Tr70"
   },
   "outputs": [],
   "source": [
    "empty_dict = {}\n",
    "empty_set = set()\n",
    "empty_dict, empty_set"
   ]
  },
  {
   "cell_type": "code",
   "execution_count": null,
   "metadata": {},
   "outputs": [],
   "source": [
    "dict()"
   ]
  },
  {
   "cell_type": "code",
   "execution_count": null,
   "metadata": {
    "id": "5oydzxNYTr5A"
   },
   "outputs": [],
   "source": [
    "empty_dict"
   ]
  },
  {
   "cell_type": "code",
   "execution_count": null,
   "metadata": {
    "id": "wfGPi9JzTdFl"
   },
   "outputs": [],
   "source": [
    "empty_set"
   ]
  },
  {
   "cell_type": "code",
   "execution_count": null,
   "metadata": {
    "id": "RnkJfg07UDkm"
   },
   "outputs": [],
   "source": [
    "empty_dict, empty_set, empty_dict, empty_dict, empty_dict, empty_dict"
   ]
  },
  {
   "cell_type": "code",
   "execution_count": null,
   "metadata": {
    "id": "MK7m2Y1GUDhv"
   },
   "outputs": [],
   "source": [
    "type((empty_dict, empty_set, empty_dict, empty_dict, empty_dict, empty_dict))"
   ]
  },
  {
   "cell_type": "code",
   "execution_count": null,
   "metadata": {
    "id": "yVU8JNwSUDb8"
   },
   "outputs": [],
   "source": [
    "num = 100_000_000\n",
    "print(num)\n",
    "\n",
    "num = 1.5e2\n",
    "print(num)\n",
    "\n",
    "num = float('inf')\n",
    "print(num)\n",
    "\n",
    "num = float('nan')  # not a number\n",
    "print(num)"
   ]
  },
  {
   "cell_type": "code",
   "execution_count": null,
   "metadata": {},
   "outputs": [],
   "source": [
    "import sys\n",
    "\n",
    "f_inf_num = sys.float_info.max * 2\n",
    "\n",
    "print(f_inf_num)"
   ]
  },
  {
   "cell_type": "code",
   "execution_count": null,
   "metadata": {
    "id": "q4WgzVnsUQMN"
   },
   "outputs": [],
   "source": [
    "# Complex numbers\n",
    "\n",
    "num = complex(4)\n",
    "print(num)\n",
    "\n",
    "num = 5 + 1j\n",
    "print(num)\n",
    "\n",
    "print(num.real)\n",
    "print(num.imag)"
   ]
  },
  {
   "cell_type": "code",
   "execution_count": null,
   "metadata": {
    "id": "65mQpyCsUSTi"
   },
   "outputs": [],
   "source": [
    "l = [1, 2, 1, 5, 5, 6]\n",
    "l_set = set(l)\n",
    "l_set"
   ]
  },
  {
   "cell_type": "code",
   "execution_count": null,
   "metadata": {
    "id": "Vmz5KIZ6UU6u"
   },
   "outputs": [],
   "source": [
    "l_list = list(l_set)\n",
    "l_list"
   ]
  },
  {
   "cell_type": "code",
   "execution_count": null,
   "metadata": {
    "id": "KVdGYZRlUU4O"
   },
   "outputs": [],
   "source": [
    "t = (1, 5)\n",
    "list(t)"
   ]
  },
  {
   "cell_type": "code",
   "execution_count": null,
   "metadata": {
    "id": "AmGq6O2KUU1j"
   },
   "outputs": [],
   "source": [
    "s = \"abab\"\n",
    "tuple(s), list(s), set(s)"
   ]
  },
  {
   "cell_type": "code",
   "execution_count": null,
   "metadata": {
    "id": "cVs93o0JUUzC"
   },
   "outputs": [],
   "source": [
    "# Peculiarity of tuple\n",
    "\n",
    "tup = (1)\n",
    "print(tup, type(tup))\n",
    "\n",
    "tup = (\"abba\")\n",
    "print(tup, type(tup))\n",
    "\n",
    "tup = (1,)\n",
    "print(tup, type(tup))"
   ]
  },
  {
   "cell_type": "code",
   "execution_count": null,
   "metadata": {
    "id": "srFUUUOZXvji"
   },
   "outputs": [],
   "source": [
    "def f(a=[]):\n",
    "    a.append(5)\n",
    "    print(a)\n",
    "\n",
    "f()\n",
    "f([6, 5])\n",
    "f()\n",
    "f([])\n",
    "f()"
   ]
  },
  {
   "cell_type": "code",
   "execution_count": null,
   "metadata": {},
   "outputs": [],
   "source": []
  },
  {
   "cell_type": "markdown",
   "metadata": {
    "id": "MHkjGhOsWXPS"
   },
   "source": [
    "## Bool"
   ]
  },
  {
   "cell_type": "code",
   "execution_count": null,
   "metadata": {
    "id": "mWm4fhlVUUwr"
   },
   "outputs": [],
   "source": [
    "t = True\n",
    "t"
   ]
  },
  {
   "cell_type": "code",
   "execution_count": null,
   "metadata": {
    "id": "6DK4h85zUddG"
   },
   "outputs": [],
   "source": [
    "t = False\n",
    "t"
   ]
  },
  {
   "cell_type": "code",
   "execution_count": null,
   "metadata": {
    "id": "QnnG3yl6Udae"
   },
   "outputs": [],
   "source": [
    "type(t)"
   ]
  },
  {
   "cell_type": "code",
   "execution_count": null,
   "metadata": {
    "id": "DNsa09tnUdYG"
   },
   "outputs": [],
   "source": [
    "print(bool(0))\n",
    "print(bool(1))\n",
    "print(bool(-2))"
   ]
  },
  {
   "cell_type": "code",
   "execution_count": null,
   "metadata": {
    "id": "NS1bRJwVUdVU"
   },
   "outputs": [],
   "source": [
    "print(bool(0.0))\n",
    "print(bool(-12.3))\n",
    "print(bool(24.1))"
   ]
  },
  {
   "cell_type": "code",
   "execution_count": null,
   "metadata": {
    "id": "rFswhXumWgK8"
   },
   "outputs": [],
   "source": [
    "print(bool(''))\n",
    "print(bool('abc'))"
   ]
  },
  {
   "cell_type": "code",
   "execution_count": null,
   "metadata": {
    "id": "Fu3TC40CWilv"
   },
   "outputs": [],
   "source": [
    "print(bool((1, 2)))\n",
    "print(bool(()))"
   ]
  },
  {
   "cell_type": "code",
   "execution_count": null,
   "metadata": {
    "id": "yK_zqIEMWig5"
   },
   "outputs": [],
   "source": [
    "print(bool(['x', 'y',]))\n",
    "print(bool([]))\n",
    "print(bool({12.5, 45.7}))\n",
    "print(bool(set()))\n",
    "print(bool({'a': 1, 'b': 2, 'c': 3}))\n",
    "print(bool({}))"
   ]
  },
  {
   "cell_type": "code",
   "execution_count": null,
   "metadata": {
    "id": "tuo4mcTFWicB"
   },
   "outputs": [],
   "source": [
    "if []:\n",
    "    print(1)\n",
    "else:\n",
    "    print(0)"
   ]
  },
  {
   "cell_type": "code",
   "execution_count": null,
   "metadata": {
    "id": "JBQfQKDPam-m"
   },
   "outputs": [],
   "source": [
    "# Be careful using boolean types as dictionary keys\n",
    "\n",
    "# Since\n",
    "print(True == 1)\n",
    "\n",
    "# And\n",
    "print(hash(True) == hash(1))\n",
    "\n",
    "# So when creating such a dictionary we get something bad\n",
    "print({True: 2, 1: 4})\n",
    "\n",
    "# The same with False and 0\n",
    "print({False: 1, 0: 5})"
   ]
  },
  {
   "cell_type": "markdown",
   "metadata": {
    "id": "Q4lTKINnYpUf"
   },
   "source": [
    "# Comparisons"
   ]
  },
  {
   "cell_type": "code",
   "execution_count": null,
   "metadata": {
    "id": "clwbvyBJWnSZ"
   },
   "outputs": [],
   "source": [
    "3 > 1"
   ]
  },
  {
   "cell_type": "code",
   "execution_count": null,
   "metadata": {
    "id": "wfV2byVTWnNQ"
   },
   "outputs": [],
   "source": [
    "2 <= 5"
   ]
  },
  {
   "cell_type": "code",
   "execution_count": null,
   "metadata": {
    "id": "QtqruWucWnIO"
   },
   "outputs": [],
   "source": [
    "print(1 == -1)\n",
    "print(1 == 1)"
   ]
  },
  {
   "cell_type": "code",
   "execution_count": null,
   "metadata": {
    "id": "jzKB9yaCWiXG"
   },
   "outputs": [],
   "source": [
    "print(1 != -1)\n",
    "print(1 != 1)"
   ]
  },
  {
   "cell_type": "code",
   "execution_count": null,
   "metadata": {
    "id": "zPQA6GEgY089"
   },
   "outputs": [],
   "source": [
    "'a' > 'b'"
   ]
  },
  {
   "cell_type": "code",
   "execution_count": null,
   "metadata": {
    "id": "zcg8LbDZY0z7"
   },
   "outputs": [],
   "source": [
    "'aa' > 'ab'"
   ]
  },
  {
   "cell_type": "code",
   "execution_count": null,
   "metadata": {
    "id": "2WALZI8KZ1g2"
   },
   "outputs": [],
   "source": [
    "'A' > 'a'"
   ]
  },
  {
   "cell_type": "code",
   "execution_count": null,
   "metadata": {},
   "outputs": [],
   "source": [
    "print(ord('A'))\n",
    "print(ord('a'))"
   ]
  },
  {
   "cell_type": "code",
   "execution_count": null,
   "metadata": {},
   "outputs": [],
   "source": [
    "print(chr(65))\n",
    "print(chr(97))"
   ]
  },
  {
   "cell_type": "markdown",
   "metadata": {
    "id": "1zTe8TkDZ6ZK"
   },
   "source": [
    "## Boolean algebra"
   ]
  },
  {
   "cell_type": "code",
   "execution_count": null,
   "metadata": {
    "id": "6zOLHg9JZ6L5"
   },
   "outputs": [],
   "source": [
    "True and False"
   ]
  },
  {
   "cell_type": "code",
   "execution_count": null,
   "metadata": {
    "id": "rw8GIMBMZ6IQ"
   },
   "outputs": [],
   "source": [
    "True and False and True and True and True and True and True"
   ]
  },
  {
   "cell_type": "code",
   "execution_count": null,
   "metadata": {
    "id": "Paf8xYPdZ6FN"
   },
   "outputs": [],
   "source": [
    "True and True and True and True and True and True and True"
   ]
  },
  {
   "cell_type": "code",
   "execution_count": null,
   "metadata": {
    "id": "N8AaHCh3Z6B2"
   },
   "outputs": [],
   "source": [
    "True or False"
   ]
  },
  {
   "cell_type": "code",
   "execution_count": null,
   "metadata": {
    "id": "jSHCfvVDZ3Jd"
   },
   "outputs": [],
   "source": [
    "True or False or True or True or True or True or True"
   ]
  },
  {
   "cell_type": "code",
   "execution_count": null,
   "metadata": {
    "id": "fdgR85eTaEuN"
   },
   "outputs": [],
   "source": [
    "False or False or False or False or False "
   ]
  },
  {
   "cell_type": "code",
   "execution_count": null,
   "metadata": {
    "id": "l7eo62MnaGAl"
   },
   "outputs": [],
   "source": [
    "not True, not False"
   ]
  },
  {
   "cell_type": "code",
   "execution_count": null,
   "metadata": {
    "id": "ePRf_48aaF9u"
   },
   "outputs": [],
   "source": [
    "[] and [1]"
   ]
  },
  {
   "cell_type": "code",
   "execution_count": null,
   "metadata": {
    "id": "MU_sBhtvaF65"
   },
   "outputs": [],
   "source": [
    "'' or 'spam'"
   ]
  },
  {
   "cell_type": "code",
   "execution_count": null,
   "metadata": {
    "id": "NRlXqrSIaF4L"
   },
   "outputs": [],
   "source": [
    "n = None\n",
    "t = True\n",
    "f = False"
   ]
  },
  {
   "cell_type": "code",
   "execution_count": null,
   "metadata": {
    "id": "kboFBse8aF1d"
   },
   "outputs": [],
   "source": [
    "print(n and t)"
   ]
  },
  {
   "cell_type": "code",
   "execution_count": null,
   "metadata": {
    "id": "x1qIGpXDaFy9"
   },
   "outputs": [],
   "source": [
    "print(n or f)"
   ]
  },
  {
   "cell_type": "code",
   "execution_count": null,
   "metadata": {},
   "outputs": [],
   "source": [
    "print(n or t)"
   ]
  },
  {
   "cell_type": "markdown",
   "metadata": {
    "id": "TbsodhIwaa0Z"
   },
   "source": [
    "# Files"
   ]
  },
  {
   "cell_type": "code",
   "execution_count": null,
   "metadata": {
    "id": "wIA5oXUsaaYj"
   },
   "outputs": [],
   "source": [
    "import os\n",
    "\n",
    "print(os.getcwd())"
   ]
  },
  {
   "cell_type": "code",
   "execution_count": null,
   "metadata": {
    "id": "eoy5s6m3bQrK"
   },
   "outputs": [],
   "source": [
    "# os.mkdir('new_dir2')\n",
    "print(os.listdir())\n",
    "print(os.path.exists('path'))\n",
    "print(os.path.exists('item'))\n",
    "print(os.path.join('path', 'path1', 'path2'))"
   ]
  },
  {
   "cell_type": "code",
   "execution_count": null,
   "metadata": {
    "id": "OLsru9kLaaVr"
   },
   "outputs": [],
   "source": [
    "# Create file with name input.txt\n",
    "\n",
    "file_variable = open('input.txt', 'w')"
   ]
  },
  {
   "cell_type": "code",
   "execution_count": null,
   "metadata": {
    "id": "rEfvKUYtaaS7"
   },
   "outputs": [],
   "source": [
    "file_variable.write('asdf\\nghjk\\nqwer')\n",
    "file_variable.close()  # :("
   ]
  },
  {
   "cell_type": "code",
   "execution_count": null,
   "metadata": {
    "id": "q5L83GP3aaQI"
   },
   "outputs": [],
   "source": [
    "# working with files\n",
    "\n",
    "file1 = open('input.txt', 'r')  # open file for reading\n",
    "file2 = open('output.txt', 'w')  # open file for writing\n",
    "\n",
    "# file = open('input.txt', 'a')  # open file for appending\n",
    "# file = open('input.txt', 'r+') # open file for reading and writing (read and write from the beginning)\n",
    "# file = open('input.txt', 'a+') # open file for reading and appending (read from the beginning, write below the last line)\n",
    "\n",
    "line  = file1.readline()  # reading a line\n",
    "lines = file1.readlines()  # reading all lines into list\n",
    "\n",
    "file1.close() # Closing file 1\n",
    "file2.close() # Closing file 2"
   ]
  },
  {
   "cell_type": "code",
   "execution_count": null,
   "metadata": {
    "id": "XmYt3GtdaaNW"
   },
   "outputs": [],
   "source": [
    "line"
   ]
  },
  {
   "cell_type": "code",
   "execution_count": null,
   "metadata": {
    "id": "0_kRphE4aFwV"
   },
   "outputs": [],
   "source": [
    "lines"
   ]
  },
  {
   "cell_type": "code",
   "execution_count": null,
   "metadata": {
    "id": "tGPdk_UxaliJ"
   },
   "outputs": [],
   "source": [
    "with open('input.txt') as file_object_name:\n",
    "    lines = file_object_name.readlines()\n",
    "\n",
    "\n",
    "print('out of with operator')\n",
    "print(lines)"
   ]
  },
  {
   "cell_type": "markdown",
   "metadata": {
    "id": "U8H9WVhbmDUj"
   },
   "source": [
    "# Tuple/list and their methods"
   ]
  },
  {
   "cell_type": "code",
   "execution_count": null,
   "metadata": {
    "id": "RtsROxapapkw"
   },
   "outputs": [],
   "source": [
    "t = ['i', 'cannot', 'be', 'modified']\n",
    "print(type(t))\n",
    "t[1] = 'can'\n",
    "t"
   ]
  },
  {
   "cell_type": "code",
   "execution_count": null,
   "metadata": {
    "id": "fHaQuA5Saq5C"
   },
   "outputs": [],
   "source": [
    "t = ('i', 'cannot', 'be', 'modified')\n",
    "print(type(t))\n",
    "t[1] = 'can'\n",
    "t"
   ]
  },
  {
   "cell_type": "code",
   "execution_count": null,
   "metadata": {
    "id": "WeWLSIqVaq1u"
   },
   "outputs": [],
   "source": [
    "# Binding operator doesn't create copies of containers!\n",
    "\n",
    "example_list = [0, 1, 2]\n",
    "\n",
    "print(example_list * 3)\n",
    "\n",
    "c = [1, 1, 1]\n",
    "\n",
    "new_list = [c]\n",
    "\n",
    "print(new_list)\n",
    "\n",
    "a = [c] * 3\n",
    "\n",
    "print(a)\n",
    "\n",
    "c[0] = 0\n",
    "\n",
    "print(c)\n",
    "\n",
    "print(a)\n",
    "\n",
    "a[0][0] = 2\n",
    "\n",
    "print(a)\n",
    "\n",
    "print(c)"
   ]
  },
  {
   "cell_type": "code",
   "execution_count": null,
   "metadata": {
    "id": "m12Dx8gDaqyv"
   },
   "outputs": [],
   "source": [
    "#Slices\n",
    "tea_party = ('Rabbit', 'Bear', 'Fox', 'Turtle')\n",
    "\n",
    "#tea_party[a:b:s] \n",
    "var1 = tea_party[:] # The whole list\n",
    "var2 = tea_party[1:3] # [a:b] - а is included, b is excluded\n",
    "var3 = tea_party[:2]  # [0:2]\n",
    "var4 = tea_party[3:]  # [3:len(tea_party)]\n",
    "var5 = tea_party[-1]  # The last element\n",
    "var6 = tea_party[:-1] # All but the last element\n",
    "var7 = tea_party[0:5:2] # every other element from 0 to 5 (5 not included), step == 2\n",
    "var8 = tea_party[::-1] # step == -1 means the list will be reversed!"
   ]
  },
  {
   "cell_type": "code",
   "execution_count": null,
   "metadata": {
    "id": "y6AIrlYMaqv2"
   },
   "outputs": [],
   "source": [
    "print(var1, var2, var3, var4, var5, var6, var7, var8, sep='\\n')"
   ]
  },
  {
   "cell_type": "code",
   "execution_count": null,
   "metadata": {
    "id": "F8xN4NAeaqs8"
   },
   "outputs": [],
   "source": [
    "# Updating with slices\n",
    "\n",
    "print(tea_party)\n",
    "\n",
    "tea_party_list = list(tea_party)\n",
    "\n",
    "print(tea_party_list)\n",
    "\n",
    "print(id(tea_party_list))\n",
    "\n",
    "tea_party_list[1:3] = ['Cat', 'Whale', 'Dog']\n",
    "\n",
    "print(tea_party_list)\n",
    "\n",
    "print(id(tea_party_list))\n",
    "\n",
    "tea_party_list[1:-1] = []\n",
    "\n",
    "print(tea_party_list)"
   ]
  },
  {
   "cell_type": "code",
   "execution_count": null,
   "metadata": {
    "id": "JrzBE3zom2tk"
   },
   "outputs": [],
   "source": [
    "#Copying with slices\n",
    "\n",
    "tea_party_not_so_copy = tea_party_list\n",
    "\n",
    "print(tea_party_not_so_copy is tea_party_list)\n",
    "\n",
    "tea_party_copy = tea_party_list[:]\n",
    "\n",
    "print(tea_party_copy is tea_party_list)"
   ]
  },
  {
   "cell_type": "code",
   "execution_count": null,
   "metadata": {
    "id": "kDkyd2YXnCz1"
   },
   "outputs": [],
   "source": [
    "dir(list)"
   ]
  },
  {
   "cell_type": "code",
   "execution_count": null,
   "metadata": {
    "id": "J8DhlinTnIjl"
   },
   "outputs": [],
   "source": [
    "#Methods\n",
    "\n",
    "#[Spisok is a russian word for list]\n",
    "\n",
    "spisok = [1, 3, 5, 7, 7, 7, 5, 3, 1]\n",
    "\n",
    "spisok.append(8) # Add a new element to the end of our list (here add 8)\n",
    "print(spisok)\n",
    "\n",
    "spisok.insert(1,2) # insert(a,b) intserts element b to the position with index a of our list\n",
    "print(spisok)\n",
    "\n",
    "spisok.remove(3) # remove(v) removes value v from the list (first from the left if the list contains several v's)\n",
    "print(spisok)\n",
    "\n",
    "i = 4\n",
    "del spisok[i] # that's how you can remove an element by its index\n",
    "print(spisok)\n",
    "\n",
    "sevens = spisok.count(7) # How many 7's in our list\n",
    "print(sevens)\n",
    "\n",
    "spisok.sort() #Sort the list\n",
    "print(spisok)\n",
    "\n",
    "d = spisok.pop() # Get the last element of the list along with removing the element\n",
    "print(d)\n",
    "print(spisok)"
   ]
  },
  {
   "cell_type": "code",
   "execution_count": null,
   "metadata": {
    "id": "MDjSBfZMnLgj"
   },
   "outputs": [],
   "source": [
    "#Functons\n",
    "\n",
    "spisok = [1, 3, 5, 7, 7, 7, 5, 3, 1]\n",
    "\n",
    "print(len(spisok))\n",
    "print(sum(spisok))\n",
    "print(max(spisok))\n",
    "print(min(spisok))\n",
    "\n",
    "sorted_spisok = sorted(spisok) # Unlike list.sort(), sorted() creates a copy of the list and doesn't change the initial one\n",
    "print(spisok)\n",
    "print(sorted_spisok)"
   ]
  },
  {
   "cell_type": "code",
   "execution_count": null,
   "metadata": {
    "id": "RTQkedhUnbPf"
   },
   "outputs": [],
   "source": [
    "# zip function creates a tuple element-wise (stops when reaches the minimum length)\n",
    "\n",
    "[pair for pair in zip(range(10), 'abc', [1, 2, 4, 5, 6])]  # future material"
   ]
  },
  {
   "cell_type": "code",
   "execution_count": null,
   "metadata": {
    "id": "fnbA4N4Gnzck"
   },
   "outputs": [],
   "source": [
    "# Unpacking operator \n",
    "\n",
    "spisok = [1, 2, 3, 4, 5]\n",
    "\n",
    "print(spisok) # printing list\n",
    "print(*spisok) # printing unpacked list, equivalent to print(spisok[0],spisok[1],...)\n",
    "print(spisok[0], spisok[1], spisok[2], spisok[3], spisok[4])"
   ]
  },
  {
   "cell_type": "code",
   "execution_count": null,
   "metadata": {
    "id": "didYCTskoVcg"
   },
   "outputs": [],
   "source": [
    "# substitute other types instead of 'list' in code below to get methods\n",
    "print(*[name for name in dir(list) if not name.startswith('_')], sep='\\n')"
   ]
  },
  {
   "cell_type": "code",
   "execution_count": null,
   "metadata": {
    "id": "yNY5n9PBo3L9"
   },
   "outputs": [],
   "source": [
    "print(*[name for name in dir(tuple) if not name.startswith('_')], sep='\\n')"
   ]
  },
  {
   "cell_type": "code",
   "execution_count": null,
   "metadata": {
    "id": "9bQbvQ7rn4Xk"
   },
   "outputs": [],
   "source": [
    "# Useful functions split(str) and str.join(list):\n",
    "\n",
    "A = 'Hello! We\\'are simple sentences. We have words and spaces.'.split(' ')\n",
    "print(A)\n",
    "\n",
    "B = ' '.join(A)\n",
    "print(B)\n",
    "\n",
    "C = B.split('s')\n",
    "print(C)\n",
    "\n",
    "D = 'c'.join(C)\n",
    "print(D)"
   ]
  },
  {
   "cell_type": "code",
   "execution_count": null,
   "metadata": {
    "id": "O5PHudVVn6ed"
   },
   "outputs": [],
   "source": [
    "string = 'Vvorld vVide vveb'"
   ]
  },
  {
   "cell_type": "code",
   "execution_count": null,
   "metadata": {
    "id": "1pBXhGtOn6Uc"
   },
   "outputs": [],
   "source": [
    "'W'.join(string.lower().split('vv'))"
   ]
  },
  {
   "cell_type": "code",
   "execution_count": null,
   "metadata": {
    "id": "05mNvKfNn6Kb"
   },
   "outputs": [],
   "source": [
    "'World Wide Web'"
   ]
  },
  {
   "cell_type": "markdown",
   "metadata": {
    "id": "Z-j0NL8PoJyO"
   },
   "source": [
    "# Range"
   ]
  },
  {
   "cell_type": "code",
   "execution_count": null,
   "metadata": {
    "id": "Y3Bsyaj2n6AN"
   },
   "outputs": [],
   "source": [
    "# range(N) creates a list of integers from 0 to N-1.\n",
    "print(range(10))\n",
    "# To be exactly true, range(N) creates an iterator object and not list.\n",
    "print(type(range(10)))\n",
    "\n",
    "# But we can easily cast it to list type\n",
    "print(list(range(10))) # single parameter is interpreted as \"end\" parameter having start==0 and step==1.\n",
    "print(list(range(0, 10)))\n",
    "print(list(range(1, 10))) # two parameters are interpreted as (start, end), having step==1\n",
    "print(list(range(0, 20, 3)))\n",
    "\n",
    "# end is always EXCLUDED!"
   ]
  },
  {
   "cell_type": "code",
   "execution_count": null,
   "metadata": {
    "id": "v4uTHKJqoL09"
   },
   "outputs": [],
   "source": [
    "list(range(100, 75, -2)) # Step can be negative if start >= end"
   ]
  },
  {
   "cell_type": "code",
   "execution_count": null,
   "metadata": {
    "id": "PzgkOm4hoVmy"
   },
   "outputs": [],
   "source": [
    "list(range(1, 10, 0.5)) # But it cannot be a float number!"
   ]
  },
  {
   "cell_type": "code",
   "execution_count": null,
   "metadata": {
    "colab": {
     "base_uri": "https://localhost:8080/"
    },
    "id": "8R4zuNECsZ7g",
    "outputId": "32f47c29-1231-40bf-da77-98d5c4861b9c"
   },
   "outputs": [],
   "source": [
    "# list comprehensions!\n",
    "\n",
    "print([i for i in range(10)])\n",
    "print([(i, i1) for i, i1 in zip(range(10), range(5))])"
   ]
  },
  {
   "cell_type": "markdown",
   "metadata": {
    "id": "QYEUr0f7psg8"
   },
   "source": [
    "# Dictionaries"
   ]
  },
  {
   "cell_type": "code",
   "execution_count": null,
   "metadata": {},
   "outputs": [],
   "source": [
    "print(*[name for name in dir(dict) if not name.startswith('_')], sep='\\n')"
   ]
  },
  {
   "cell_type": "code",
   "execution_count": null,
   "metadata": {
    "colab": {
     "base_uri": "https://localhost:8080/"
    },
    "id": "dc7ZLzvcoVR6",
    "outputId": "2c38ac0e-3755-4c96-dc37-0cbed15e2a4d"
   },
   "outputs": [],
   "source": [
    "a = {'Key1' : 'Value1', 'Key2' : 'Value2'}\n",
    "a"
   ]
  },
  {
   "cell_type": "code",
   "execution_count": null,
   "metadata": {
    "colab": {
     "base_uri": "https://localhost:8080/"
    },
    "id": "HqsfrikUpq9T",
    "outputId": "8348332a-a985-4855-cf3c-80c1fc6cb747"
   },
   "outputs": [],
   "source": [
    "b = dict([(1, 1), (2, 4), (3, 9)])\n",
    "b"
   ]
  },
  {
   "cell_type": "code",
   "execution_count": null,
   "metadata": {
    "colab": {
     "base_uri": "https://localhost:8080/"
    },
    "id": "bIQraPV0pqvb",
    "outputId": "68f0dcf6-1d26-47da-e937-cb73667b9206"
   },
   "outputs": [],
   "source": [
    "[1].__hash__ is None  # __hash__ method is not defined for list"
   ]
  },
  {
   "cell_type": "code",
   "execution_count": null,
   "metadata": {
    "colab": {
     "base_uri": "https://localhost:8080/"
    },
    "id": "S84rw-dEq_av",
    "outputId": "574b9851-1310-483f-f102-14500ac028f8"
   },
   "outputs": [],
   "source": [
    "(1,).__hash__"
   ]
  },
  {
   "cell_type": "code",
   "execution_count": null,
   "metadata": {
    "colab": {
     "base_uri": "https://localhost:8080/",
     "height": 181
    },
    "id": "0NXeSnXqrAmt",
    "outputId": "5e9d245c-8bf7-47a5-b057-89fa4537346d"
   },
   "outputs": [],
   "source": [
    "d = {1: 'b'}\n",
    "d2 = {d: 'abc'}"
   ]
  },
  {
   "cell_type": "code",
   "execution_count": null,
   "metadata": {
    "colab": {
     "base_uri": "https://localhost:8080/"
    },
    "id": "DW2j96DKrAW8",
    "outputId": "ca509f5d-3a9f-4d3d-d6bb-4a3a3d228ea9"
   },
   "outputs": [],
   "source": [
    "{1: 'b'}.__hash__ is None  # dict is also not hashable"
   ]
  },
  {
   "cell_type": "code",
   "execution_count": null,
   "metadata": {
    "colab": {
     "base_uri": "https://localhost:8080/"
    },
    "id": "ZwJysfkCrFxV",
    "outputId": "3d385e7e-f1f7-494a-904a-a13b3a3e02ac"
   },
   "outputs": [],
   "source": [
    "# iterating\n",
    "dictionary = {'a': 1, 'b': 2, 'c': 3}\n",
    "\n",
    "\n",
    "print(dictionary.keys(), type(dictionary.keys()), sep='\\n')\n",
    "for k in dictionary.keys():\n",
    "    print(k * 3)\n",
    "    print(k)\n",
    "    \n",
    "print()\n",
    "\n",
    "\n",
    "print(dictionary, type(dictionary), sep='\\n')\n",
    "for k in dictionary:  # equivalent to iterating by keys but Python Zen says explicit is better than implicit\n",
    "    print(k)          # that's why it's better to add \".keys()\" in order to improve your code readability\n",
    "                      # too readable code hasn’t hurt anyone yet"
   ]
  },
  {
   "cell_type": "code",
   "execution_count": null,
   "metadata": {
    "colab": {
     "base_uri": "https://localhost:8080/"
    },
    "id": "yWu0kcJArWgA",
    "outputId": "98d0def5-7e6c-4ddc-ba32-adb7c6e82492"
   },
   "outputs": [],
   "source": [
    "print(dictionary.values(), type(dictionary.values()), sep='\\n')\n",
    "for v in dictionary.values(): # iterating by values\n",
    "    print(v)"
   ]
  },
  {
   "cell_type": "code",
   "execution_count": null,
   "metadata": {
    "colab": {
     "base_uri": "https://localhost:8080/"
    },
    "id": "22aosZiHrYFB",
    "outputId": "74e31b84-e594-4373-9ff2-00f94cbb6695"
   },
   "outputs": [],
   "source": [
    "for pair in dictionary.items(): # iterating by key-value pairs\n",
    "    print(pair)\n",
    "    \n",
    "print(dictionary.items(), type(dictionary.items()), sep='\\n')\n",
    "    \n",
    "for key, value in dictionary.items(): # iterating by key-value pairs\n",
    "    print(key, value)"
   ]
  },
  {
   "cell_type": "code",
   "execution_count": null,
   "metadata": {
    "colab": {
     "base_uri": "https://localhost:8080/"
    },
    "id": "3owqdzCFrX1T",
    "outputId": "8c62ed45-eb55-4bb3-afbb-25d55c2a4243"
   },
   "outputs": [],
   "source": [
    "# constructors:\n",
    "a = dict(a=1, b=2, c=3)\n",
    "print(a)\n",
    "keys = [\"Petya\", \"Vasya\", \"Masha\"]\n",
    "values = [20, 21, 22]\n",
    "\n",
    "dictionary = dict(zip(keys, values)) # probably the most convenient way to create a dict from two lists \n",
    "                                     # we will talk about zip() function later\n",
    "\n",
    "print(list(zip(keys, values)))  \n",
    "    \n",
    "dictionary"
   ]
  },
  {
   "cell_type": "code",
   "execution_count": null,
   "metadata": {
    "colab": {
     "base_uri": "https://localhost:8080/"
    },
    "id": "3EsjkXxCrXmZ",
    "outputId": "5cf47b38-072b-486a-d5d4-61da7b3d303f"
   },
   "outputs": [],
   "source": [
    "print(list(a.keys()))\n",
    "print(list(a.values()))\n",
    "print(list(a.items()))"
   ]
  },
  {
   "cell_type": "code",
   "execution_count": null,
   "metadata": {
    "colab": {
     "base_uri": "https://localhost:8080/"
    },
    "id": "wP4E7jbmroVH",
    "outputId": "07f69d21-b5b8-4e19-d0d5-4f7deb2f5ef3"
   },
   "outputs": [],
   "source": [
    "del dictionary['Vasya']\n",
    "dictionary"
   ]
  },
  {
   "cell_type": "code",
   "execution_count": null,
   "metadata": {
    "colab": {
     "base_uri": "https://localhost:8080/"
    },
    "id": "C73gs8XPrpF-",
    "outputId": "66e97a8d-a46b-4992-9941-3fa9bd602b19"
   },
   "outputs": [],
   "source": [
    "print(a)\n",
    "type(a)\n",
    "a.update(dictionary)  # union of two dicts\n",
    "a"
   ]
  },
  {
   "cell_type": "code",
   "execution_count": null,
   "metadata": {
    "colab": {
     "base_uri": "https://localhost:8080/"
    },
    "id": "Nm4VRuFLrq1O",
    "outputId": "fc5aa0db-8aa4-4c4e-e6a7-0dbad729bb2d"
   },
   "outputs": [],
   "source": [
    "a[('Composite', 'Key')] = [1, 2, 3]   # only immutable objects could be keys in dicts\n",
    "a"
   ]
  },
  {
   "cell_type": "code",
   "execution_count": null,
   "metadata": {
    "id": "MyINkNYmrtAn"
   },
   "outputs": [],
   "source": [
    "# dict comprehensions!\n",
    "\n",
    "print({i: i for i in range(10)})\n",
    "print({i: i1 for i, i1 in zip(range(5), range(15))})"
   ]
  },
  {
   "cell_type": "code",
   "execution_count": null,
   "metadata": {},
   "outputs": [],
   "source": [
    "help(dict.setdefault)"
   ]
  },
  {
   "cell_type": "code",
   "execution_count": null,
   "metadata": {},
   "outputs": [],
   "source": [
    "# Handling the unknown carefully\n",
    "\n",
    "dct = {1:2, 3:4}\n",
    "\n",
    "key = 5\n",
    "\n",
    "res1 = dct.get(key,'not found')\n",
    "res2 = dct.setdefault(key, 'default')\n",
    "\n",
    "print(res1, res2)\n",
    "\n",
    "dct = {1: 2, 3: 4, 5: 6}\n",
    "\n",
    "res1 = dct.get(key,'not found')\n",
    "res2 = dct.setdefault(key, 'default')\n",
    "\n",
    "print(res1, res2)"
   ]
  },
  {
   "cell_type": "markdown",
   "metadata": {},
   "source": [
    "# Sets"
   ]
  },
  {
   "cell_type": "code",
   "execution_count": null,
   "metadata": {},
   "outputs": [],
   "source": [
    "print(*[name for name in dir(set) if not name.startswith('_')], sep='\\n')"
   ]
  },
  {
   "cell_type": "code",
   "execution_count": null,
   "metadata": {},
   "outputs": [],
   "source": [
    "a = {1, 2, 3}\n",
    "b = set([2, 3, 4])\n",
    "print(f'a = {a}, b = {b}')\n",
    "\n",
    "a.add(5)\n",
    "b.update({5, 6}) # update b with an argument set (union of b and an argument, the result is stored in b)\n",
    "print(f'a = {a}, b = {b}')"
   ]
  },
  {
   "cell_type": "code",
   "execution_count": null,
   "metadata": {},
   "outputs": [],
   "source": [
    "s = {1, 2}\n",
    "t = {1, 2, 3, 4}"
   ]
  },
  {
   "cell_type": "code",
   "execution_count": null,
   "metadata": {},
   "outputs": [],
   "source": [
    "x = 'name'"
   ]
  },
  {
   "cell_type": "code",
   "execution_count": null,
   "metadata": {},
   "outputs": [],
   "source": [
    "print(x in s)\n",
    "print(x not in s)\n",
    "print(s.issubset(t))   #equivalent to s <= t\n",
    "print(s.issuperset(t)) #equivalent to s >= t"
   ]
  },
  {
   "cell_type": "code",
   "execution_count": null,
   "metadata": {},
   "outputs": [],
   "source": [
    "print(f'a = {a}, b = {b}')\n",
    "print(a - b)\n",
    "print(b - a)\n",
    "print(a | b) # union\n",
    "print(a & b) # intersection\n",
    "print(a ^ b) # ~ XOR"
   ]
  },
  {
   "cell_type": "code",
   "execution_count": null,
   "metadata": {},
   "outputs": [],
   "source": [
    "print(a.difference(b))             # a - b\n",
    "print(a.union(b))                  # a | b\n",
    "print(a.intersection(b))           # a & b\n",
    "print(a.symmetric_difference(b))   # a ^ b\n",
    "\n",
    "print(a.difference_update(b))            # a -= b\n",
    "print(a.update(b))                       # a |= b\n",
    "print(a.intersection_update(b))          # a &= b\n",
    "print(a.symmetric_difference_update(b))  # a ^= b"
   ]
  },
  {
   "cell_type": "code",
   "execution_count": null,
   "metadata": {},
   "outputs": [],
   "source": [
    "a = {1, 2, 3}\n",
    "a.remove(3)\n",
    "a.remove(3)"
   ]
  },
  {
   "cell_type": "code",
   "execution_count": null,
   "metadata": {},
   "outputs": [],
   "source": [
    "help(set.discard)"
   ]
  },
  {
   "cell_type": "code",
   "execution_count": null,
   "metadata": {},
   "outputs": [],
   "source": [
    "a = {1,2,3}\n",
    "a.discard(3)\n",
    "a.discard(3)\n",
    "a"
   ]
  },
  {
   "cell_type": "code",
   "execution_count": null,
   "metadata": {},
   "outputs": [],
   "source": [
    "# Set comprehensions!\n",
    "\n",
    "print(type(i for i in range(10) if not i % 3))\n",
    "\n",
    "st = {i for i in range(10) if not i % 3}\n",
    "st"
   ]
  },
  {
   "cell_type": "code",
   "execution_count": null,
   "metadata": {},
   "outputs": [],
   "source": [
    "d = {st: 1}"
   ]
  },
  {
   "cell_type": "code",
   "execution_count": null,
   "metadata": {},
   "outputs": [],
   "source": [
    "frozenset(st)\n",
    "type(frozenset(st))"
   ]
  },
  {
   "cell_type": "code",
   "execution_count": null,
   "metadata": {},
   "outputs": [],
   "source": [
    "d = {frozenset(st): 6}  # but there is a type frozenset that you actually can hash (because it's immutable!)\n",
    "d"
   ]
  },
  {
   "cell_type": "code",
   "execution_count": null,
   "metadata": {},
   "outputs": [],
   "source": [
    "d[0][1] = 3"
   ]
  },
  {
   "cell_type": "code",
   "execution_count": null,
   "metadata": {},
   "outputs": [],
   "source": [
    "dir(frozenset)"
   ]
  },
  {
   "cell_type": "code",
   "execution_count": null,
   "metadata": {},
   "outputs": [],
   "source": []
  }
 ],
 "metadata": {
  "colab": {
   "collapsed_sections": [
    "sxnzZ2aIOZCW",
    "vFMw3Gs_RPS5",
    "7qx2xOFfSjeV",
    "JlVmASHXS1dl",
    "MHkjGhOsWXPS",
    "Q4lTKINnYpUf",
    "TbsodhIwaa0Z"
   ],
   "provenance": []
  },
  "kernelspec": {
   "display_name": "Python 3 (ipykernel)",
   "language": "python",
   "name": "python3"
  },
  "language_info": {
   "codemirror_mode": {
    "name": "ipython",
    "version": 3
   },
   "file_extension": ".py",
   "mimetype": "text/x-python",
   "name": "python",
   "nbconvert_exporter": "python",
   "pygments_lexer": "ipython3",
   "version": "3.11.1"
  }
 },
 "nbformat": 4,
 "nbformat_minor": 1
}
