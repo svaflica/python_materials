{
 "cells": [
  {
   "cell_type": "markdown",
   "id": "6ccdfaf8",
   "metadata": {},
   "source": [
    "# Параллельное программирование"
   ]
  },
  {
   "cell_type": "markdown",
   "id": "39b29e0c",
   "metadata": {},
   "source": [
    "## Модели параллельного программирования"
   ]
  },
  {
   "cell_type": "markdown",
   "id": "f7277a05",
   "metadata": {},
   "source": [
    "* Модель с разделяемой памятью\n",
    "* Многопоточная модель\n",
    "* Модель передачи сообщений\n",
    "* Модель с параллельными данными"
   ]
  },
  {
   "cell_type": "markdown",
   "id": "50625a6e",
   "metadata": {},
   "source": [
    "## Модели с разделяемой памятью\n",
    "\n",
    "Преимущества:\n",
    "* Не надо контролировать взаимодействие между задачами\n",
    "\n",
    "Недостатки:\n",
    "* Сложность в управлении локализацией данных"
   ]
  },
  {
   "cell_type": "markdown",
   "id": "c7ff0d6b",
   "metadata": {},
   "source": [
    "## Многопоточные модели\n",
    "\n",
    "Преимущества:\n",
    "* Можно достигать параллелизм даже при нелинейном расположении данных\n",
    "\n",
    "Недостатки:\n",
    "* Управление синхронизацией между потоками бывает сложным"
   ]
  },
  {
   "cell_type": "markdown",
   "id": "6ee8adfd",
   "metadata": {},
   "source": [
    "## Модель передачи сообщений\n",
    "\n",
    "Преимущества:\n",
    "* Простота написания кода\n",
    "\n",
    "Недостатки:\n",
    "* В библиотечных функциях, вызываемых для таких моделей, не исключены утечки памяти и баги"
   ]
  },
  {
   "cell_type": "markdown",
   "id": "48857b9b",
   "metadata": {},
   "source": [
    "## Модель с параллельными данными\n",
    "\n",
    "Преимущества:\n",
    "* Каждый процесс работает со своими данными\n",
    "\n",
    "Недостатки:\n",
    "* Требуется определить распределение и группировку данных"
   ]
  },
  {
   "cell_type": "markdown",
   "id": "db1662cc",
   "metadata": {},
   "source": [
    "## GIL - Global Interpreter Lock, Глобальная блокировка интерпретатора\n",
    "\n",
    "Контроль за выполнением потоков\n",
    "\n",
    "Гарантирует эксклюзивный доступ к переменным интерпретатора"
   ]
  },
  {
   "cell_type": "code",
   "execution_count": null,
   "id": "8392c0fc",
   "metadata": {},
   "outputs": [],
   "source": [
    "sys.setcheckinterval()"
   ]
  },
  {
   "cell_type": "markdown",
   "id": "de65a172",
   "metadata": {},
   "source": [
    "## Потоки и процессы\n",
    "\n",
    "|Потоки|Процессы|\n",
    "|------|--------|\n",
    "|Совместно используют память|Не разделяют память|\n",
    "|Запуск/ изменение менее затратны с точки зрения вычислений|Запуск/ изменение затратны с точки зрения вычислений|\n",
    "|Требуют меньше ресурсов (облегчённые процессы)|Требуют больше вычислительных ресурсов|\n",
    "|Нуждаются в механизмах синхронизации для корректной обработки данных|Не требуется синхронизация памяти|"
   ]
  },
  {
   "cell_type": "markdown",
   "id": "8e834b39",
   "metadata": {},
   "source": [
    "# Многопоточное программирование"
   ]
  },
  {
   "cell_type": "code",
   "execution_count": 20,
   "id": "0422e23f",
   "metadata": {},
   "outputs": [],
   "source": [
    "import random\n",
    "\n",
    "def do_smth(count, out_list):\n",
    "    for i in range(count):\n",
    "        out_list.append(random.randint(0,100))"
   ]
  },
  {
   "cell_type": "code",
   "execution_count": 21,
   "id": "add5ac87",
   "metadata": {},
   "outputs": [
    {
     "name": "stdout",
     "output_type": "stream",
     "text": [
      "serial time= 26.753253936767578\n"
     ]
    }
   ],
   "source": [
    "import time\n",
    "\n",
    "start_time = time.time()\n",
    "size = 10000000 \n",
    "n_exec = 10\n",
    "for i in range(n_exec):\n",
    "    out_list = list()\n",
    "    do_smth(size, out_list)\n",
    "\n",
    "end_time = time.time()\n",
    "print(\"serial time=\", end_time - start_time)"
   ]
  },
  {
   "cell_type": "code",
   "execution_count": 22,
   "id": "14d2273b",
   "metadata": {},
   "outputs": [
    {
     "data": {
      "text/plain": [
       "10000000"
      ]
     },
     "execution_count": 22,
     "metadata": {},
     "output_type": "execute_result"
    }
   ],
   "source": [
    "len(out_list)"
   ]
  },
  {
   "cell_type": "code",
   "execution_count": 23,
   "id": "bb7de59b",
   "metadata": {},
   "outputs": [
    {
     "name": "stdout",
     "output_type": "stream",
     "text": [
      "serial time= 26.663846731185913\n"
     ]
    }
   ],
   "source": [
    "import threading\n",
    "\n",
    "start_time = time.time()\n",
    "size = 10000000\n",
    "threads = 10 \n",
    "jobs = []\n",
    "for i in range(threads):\n",
    "    out_list = list()\n",
    "    thread = threading.Thread(target=do_smth(size,out_list))\n",
    "    jobs.append(thread)\n",
    "    \n",
    "end_time = time.time()\n",
    "print(\"serial time=\", end_time - start_time)"
   ]
  },
  {
   "cell_type": "code",
   "execution_count": 24,
   "id": "af38685e",
   "metadata": {},
   "outputs": [
    {
     "data": {
      "text/plain": [
       "10000000"
      ]
     },
     "execution_count": 24,
     "metadata": {},
     "output_type": "execute_result"
    }
   ],
   "source": [
    "len(out_list)"
   ]
  },
  {
   "cell_type": "code",
   "execution_count": 25,
   "id": "1332018c",
   "metadata": {},
   "outputs": [
    {
     "name": "stdout",
     "output_type": "stream",
     "text": [
      "List processing complete.\n",
      "multiprocesses time= 4.427317142486572\n"
     ]
    }
   ],
   "source": [
    "import multiprocessing\n",
    "from do_smth import do_smth\n",
    "import time\n",
    "\n",
    "\n",
    "start_time = time.time()\n",
    "size = 10000000 \n",
    "procs = 10 \n",
    "jobs = []\n",
    "out_list = []\n",
    "for i in range(procs):\n",
    "    out_list = []\n",
    "    process = multiprocessing.Process(target=do_smth,args=(size,out_list))\n",
    "    jobs.append(process)\n",
    "    \n",
    "for j in jobs:\n",
    "    j.start()\n",
    "\n",
    "for j in jobs:\n",
    "    j.join()\n",
    "\n",
    "print (\"List processing complete.\")\n",
    "end_time = time.time()\n",
    "print(\"multiprocesses time=\", end_time - start_time)"
   ]
  },
  {
   "cell_type": "markdown",
   "id": "4976d77c",
   "metadata": {},
   "source": [
    "## Параллельность на основе потоков\n",
    "\n",
    "Поток (thread) это независимое течение (flow) которое может исполняться параллельно и одновременно с прочими потоками в системе\n",
    "\n",
    "Возможные состояния потока:\n",
    "* Готов\n",
    "* Исполняется\n",
    "* Блокирован"
   ]
  },
  {
   "cell_type": "code",
   "execution_count": 27,
   "id": "ba495a41",
   "metadata": {},
   "outputs": [],
   "source": [
    "import threading"
   ]
  },
  {
   "cell_type": "code",
   "execution_count": 28,
   "id": "a3ca3304",
   "metadata": {},
   "outputs": [
    {
     "name": "stdout",
     "output_type": "stream",
     "text": [
      "Сalled thread 0\n",
      "Сalled thread 1\n",
      "Сalled thread 2\n",
      "Сalled thread 3\n",
      "Сalled thread 4\n",
      "Сalled thread 5\n",
      "Сalled thread 6\n",
      "Сalled thread 7\n",
      "Сalled thread 8\n",
      "Сalled thread 9\n"
     ]
    }
   ],
   "source": [
    "def my_function(thread_number):\n",
    "    return print('Сalled thread {}'.format(thread_number))\n",
    "\n",
    "\n",
    "threads = []\n",
    "for i in range(10):\n",
    "    t = threading.Thread(target=my_function, args=(i,))\n",
    "    threads.append(t)\n",
    "    t.start()\n",
    "    t.join()\n"
   ]
  },
  {
   "cell_type": "code",
   "execution_count": 29,
   "id": "9a939467",
   "metadata": {},
   "outputs": [],
   "source": [
    "import threading\n",
    "import time\n",
    "\n",
    "def function_A():\n",
    "    print (threading.current_thread().name+str(' starting \\n'))\n",
    "    time.sleep(2)\n",
    "    print (threading.current_thread().name+str( ' exiting \\n'))\n",
    "  \n",
    "def function_B():\n",
    "    print (threading.current_thread().name+str(' starting \\n'))\n",
    "    time.sleep(2)\n",
    "    print (threading.current_thread().name+str( ' exiting \\n'))\n",
    "  \n",
    "def function_C():\n",
    "    print (threading.current_thread().name+str(' starting \\n'))\n",
    "    time.sleep(2)\n",
    "    print (threading.current_thread().name+str( ' exiting \\n'))"
   ]
  },
  {
   "cell_type": "code",
   "execution_count": 30,
   "id": "9afef226",
   "metadata": {},
   "outputs": [
    {
     "name": "stdout",
     "output_type": "stream",
     "text": [
      "function_A starting \n",
      "function_B starting \n",
      "\n",
      "\n",
      "function_C starting \n",
      "\n",
      "function_C exiting \n",
      "\n",
      "function_B exiting \n",
      "\n",
      "function_A exiting \n",
      "\n"
     ]
    }
   ],
   "source": [
    "t1 = threading.Thread(name='function_A', target=function_A)\n",
    "t2 = threading.Thread(name='function_B', target=function_B)\n",
    "t3 = threading.Thread(name='function_C',target=function_C) \n",
    "\n",
    "t1.start()\n",
    "t2.start()\n",
    "t3.start()\n",
    "\n",
    "t1.join()\n",
    "t2.join()\n",
    "t3.join()"
   ]
  },
  {
   "cell_type": "code",
   "execution_count": 31,
   "id": "747c99b5",
   "metadata": {},
   "outputs": [],
   "source": [
    "import time\n",
    "import os\n",
    "from random import randint\n",
    "from threading import Thread\n",
    "\n",
    "class MyThreadClass(Thread):\n",
    "    def __init__(self, name, duration):\n",
    "        Thread.__init__(self)\n",
    "        self.name = name\n",
    "        self.duration = duration \n",
    "\n",
    "    def run(self):\n",
    "        print (self.name + \" running, process ID \" + str(os.getpid()) + \"\\n\")\n",
    "        time.sleep(self.duration)\n",
    "        print (self.name + \" over\\n\")"
   ]
  },
  {
   "cell_type": "code",
   "execution_count": 32,
   "id": "c63fd67c",
   "metadata": {},
   "outputs": [
    {
     "name": "stdout",
     "output_type": "stream",
     "text": [
      "Thread#1  running, process ID 21112\n",
      "\n",
      "Thread#2  running, process ID 21112\n",
      "\n",
      "Thread#3  running, process ID 21112\n",
      "\n",
      "Thread#4  running, process ID 21112\n",
      "\n",
      "Thread#5  running, process ID 21112\n",
      "\n",
      "Thread#6  running, process ID 21112\n",
      "\n",
      "Thread#7  running, process ID 21112\n",
      "\n",
      "Thread#8  running, process ID 21112\n",
      "\n",
      "Thread#9  running, process ID 21112\n",
      "\n",
      "Thread#3  over\n",
      "\n",
      "Thread#5  over\n",
      "\n",
      "Thread#7  over\n",
      "\n",
      "Thread#9  over\n",
      "\n",
      "Thread#4  over\n",
      "\n",
      "Thread#2  over\n",
      "\n",
      "Thread#1  over\n",
      "\n",
      "Thread#8  over\n",
      "\n",
      "Thread#6  over\n",
      "\n",
      "End\n",
      "--- 9.008229970932007 seconds ---\n"
     ]
    }
   ],
   "source": [
    "start_time = time.time()\n",
    "\n",
    "# Создание потока\n",
    "thread1 = MyThreadClass(\"Thread#1 \", randint(1,10))\n",
    "thread2 = MyThreadClass(\"Thread#2 \", randint(1,10))\n",
    "thread3 = MyThreadClass(\"Thread#3 \", randint(1,10))\n",
    "thread4 = MyThreadClass(\"Thread#4 \", randint(1,10))\n",
    "thread5 = MyThreadClass(\"Thread#5 \", randint(1,10))\n",
    "thread6 = MyThreadClass(\"Thread#6 \", randint(1,10))\n",
    "thread7 = MyThreadClass(\"Thread#7 \", randint(1,10))\n",
    "thread8 = MyThreadClass(\"Thread#8 \", randint(1,10)) \n",
    "thread9 = MyThreadClass(\"Thread#9 \", randint(1,10))\n",
    "\n",
    "# Запуск потока\n",
    "thread1.start()\n",
    "thread2.start()\n",
    "thread3.start()\n",
    "thread4.start()\n",
    "thread5.start()\n",
    "thread6.start()\n",
    "thread7.start()\n",
    "thread8.start()\n",
    "thread9.start()\n",
    "\n",
    "# Присоединение потока\n",
    "thread1.join()\n",
    "thread2.join()\n",
    "thread3.join()\n",
    "thread4.join()\n",
    "thread5.join()\n",
    "thread6.join()\n",
    "thread7.join()\n",
    "thread8.join()\n",
    "thread9.join()\n"
   ]
  },
  {
   "cell_type": "code",
   "execution_count": 33,
   "id": "f6c0eb26",
   "metadata": {},
   "outputs": [],
   "source": [
    "import threading\n",
    "import time\n",
    "import os\n",
    "from threading import Thread\n",
    "from random import randint\n",
    "\n",
    "threadLock = threading.Lock()\n",
    "\n",
    "class MyThreadClass(Thread):\n",
    "    def __init__(self, name, duration):\n",
    "        Thread.__init__(self)\n",
    "        self.name = name\n",
    "        self.duration = duration\n",
    "    def run(self):\n",
    "        threadLock.acquire()\n",
    "        print (self.name + \" running, process ID \" + str(os.getpid()) + \"\\n\")\n",
    "        time.sleep(self.duration)\n",
    "        print (self.name + \" over\\n\")\n",
    "        threadLock.release()"
   ]
  },
  {
   "cell_type": "code",
   "execution_count": 34,
   "id": "620e1ed5",
   "metadata": {},
   "outputs": [
    {
     "name": "stdout",
     "output_type": "stream",
     "text": [
      "Thread#1  running, process ID 21112\n",
      "\n",
      "Thread#1  over\n",
      "\n",
      "Thread#2  running, process ID 21112\n",
      "\n",
      "Thread#2  over\n",
      "\n",
      "Thread#3  running, process ID 21112\n",
      "\n",
      "Thread#3  over\n",
      "\n",
      "Thread#4  running, process ID 21112\n",
      "\n",
      "Thread#4  over\n",
      "\n",
      "Thread#5  running, process ID 21112\n",
      "\n",
      "Thread#5  over\n",
      "\n",
      "Thread#6  running, process ID 21112\n",
      "\n",
      "Thread#6  over\n",
      "\n",
      "Thread#7  running, process ID 21112\n",
      "\n",
      "Thread#7  over\n",
      "\n",
      "Thread#8  running, process ID 21112\n",
      "\n",
      "Thread#8  over\n",
      "\n",
      "Thread#9  running, process ID 21112\n",
      "\n",
      "Thread#9  over\n",
      "\n"
     ]
    }
   ],
   "source": [
    "thread1 = MyThreadClass(\"Thread#1 \", randint(1,10))\n",
    "thread2 = MyThreadClass(\"Thread#2 \", randint(1,10))\n",
    "thread3 = MyThreadClass(\"Thread#3 \", randint(1,10))\n",
    "thread4 = MyThreadClass(\"Thread#4 \", randint(1,10))\n",
    "thread5 = MyThreadClass(\"Thread#5 \", randint(1,10))\n",
    "thread6 = MyThreadClass(\"Thread#6 \", randint(1,10))\n",
    "thread7 = MyThreadClass(\"Thread#7 \", randint(1,10))\n",
    "thread8 = MyThreadClass(\"Thread#8 \", randint(1,10))\n",
    "thread9 = MyThreadClass(\"Thread#9 \", randint(1,10))\n",
    "\n",
    "thread1.start()\n",
    "thread2.start()\n",
    "thread3.start()\n",
    "thread4.start()\n",
    "thread5.start()\n",
    "thread6.start()\n",
    "thread7.start()\n",
    "thread8.start()\n",
    "thread9.start()\n",
    "\n",
    "thread1.join()\n",
    "thread2.join()\n",
    "thread3.join()\n",
    "thread4.join()\n",
    "thread5.join()\n",
    "thread6.join()\n",
    "thread7.join()\n",
    "thread8.join()\n",
    "thread9.join()"
   ]
  },
  {
   "cell_type": "code",
   "execution_count": 35,
   "id": "6ad87d63",
   "metadata": {},
   "outputs": [],
   "source": [
    "import threading\n",
    "import time\n",
    "import os\n",
    "from threading import Thread\n",
    "from random import randint\n",
    "\n",
    "threadLock = threading.Lock()\n",
    "\n",
    "class MyThreadClass (Thread):\n",
    "    def __init__(self, name, duration):\n",
    "        Thread.__init__(self)\n",
    "        self.name = name\n",
    "        self.duration = duration\n",
    "    def run(self):\n",
    "        threadLock.acquire() \n",
    "        print (self.name + \" running, process ID \" + str(os.getpid()) + \"\\n\")\n",
    "        threadLock.release()\n",
    "        time.sleep(self.duration)\n",
    "        print (self.name + \" over\\n\")"
   ]
  },
  {
   "cell_type": "code",
   "execution_count": 36,
   "id": "f28a5852",
   "metadata": {},
   "outputs": [
    {
     "name": "stdout",
     "output_type": "stream",
     "text": [
      "Thread#1  running, process ID 21112\n",
      "\n",
      "Thread#2  running, process ID 21112\n",
      "\n",
      "Thread#3  running, process ID 21112\n",
      "\n",
      "Thread#4  running, process ID 21112\n",
      "\n",
      "Thread#5  running, process ID 21112\n",
      "\n",
      "Thread#6  running, process ID 21112\n",
      "\n",
      "Thread#7  running, process ID 21112\n",
      "\n",
      "Thread#8  running, process ID 21112\n",
      "\n",
      "Thread#9  running, process ID 21112\n",
      "\n",
      "Thread#6  over\n",
      "\n",
      "Thread#9  over\n",
      "\n",
      "Thread#4  over\n",
      "\n",
      "Thread#3  over\n",
      "\n",
      "Thread#8  over\n",
      "\n",
      "Thread#1  over\n",
      "Thread#2  over\n",
      "\n",
      "\n",
      "Thread#7  over\n",
      "\n",
      "Thread#5  over\n",
      "\n"
     ]
    }
   ],
   "source": [
    "thread1 = MyThreadClass(\"Thread#1 \", randint(1,10))\n",
    "thread2 = MyThreadClass(\"Thread#2 \", randint(1,10))\n",
    "thread3 = MyThreadClass(\"Thread#3 \", randint(1,10))\n",
    "thread4 = MyThreadClass(\"Thread#4 \", randint(1,10))\n",
    "thread5 = MyThreadClass(\"Thread#5 \", randint(1,10))\n",
    "thread6 = MyThreadClass(\"Thread#6 \", randint(1,10))\n",
    "thread7 = MyThreadClass(\"Thread#7 \", randint(1,10))\n",
    "thread8 = MyThreadClass(\"Thread#8 \", randint(1,10))\n",
    "thread9 = MyThreadClass(\"Thread#9 \", randint(1,10))\n",
    "\n",
    "thread1.start()\n",
    "thread2.start()\n",
    "thread3.start()\n",
    "thread4.start()\n",
    "thread5.start()\n",
    "thread6.start()\n",
    "thread7.start()\n",
    "thread8.start()\n",
    "thread9.start()\n",
    "\n",
    "thread1.join()\n",
    "thread2.join()\n",
    "thread3.join()\n",
    "thread4.join()\n",
    "thread5.join()\n",
    "thread6.join()\n",
    "thread7.join()\n",
    "thread8.join()\n",
    "thread9.join()\n"
   ]
  },
  {
   "cell_type": "code",
   "execution_count": 42,
   "id": "e8ed3912",
   "metadata": {},
   "outputs": [
    {
     "name": "stdout",
     "output_type": "stream",
     "text": [
      "17 items to ADD \n",
      "9 items to REMOVE\n",
      "\n",
      "\n"
     ]
    },
    {
     "name": "stderr",
     "output_type": "stream",
     "text": [
      "Exception in thread Thread-64:\n",
      "Traceback (most recent call last):\n",
      "  File \"/opt/homebrew/Cellar/python@3.11/3.11.1/Frameworks/Python.framework/Versions/3.11/lib/python3.11/threading.py\", line 1038, in _bootstrap_inner\n",
      "    self.run()\n",
      "  File \"/var/folders/hx/c2bmt9hn1b5f_135wkslfgzw0000gn/T/ipykernel_21112/510260954.py\", line 25, in run\n",
      "  File \"/var/folders/hx/c2bmt9hn1b5f_135wkslfgzw0000gn/T/ipykernel_21112/510260954.py\", line 14, in get\n",
      "TypeError: object of type 'int' has no len()\n"
     ]
    },
    {
     "name": "stdout",
     "output_type": "stream",
     "text": [
      "REMOVED one item in result 8 item to REMOVE\n",
      "ADDED one item in result 16 item to ADD \n",
      "\n",
      "\n",
      "ADDED one item in result 15 item to ADD \n",
      "REMOVED one item in result 7 item to REMOVE\n",
      "\n",
      "\n",
      "REMOVED one item in result 6 item to REMOVE\n",
      "\n",
      "ADDED one item in result 14 item to ADD \n",
      "\n",
      "REMOVED one item in result 5 item to REMOVE\n",
      "\n",
      "ADDED one item in result 13 item to ADD \n",
      "\n",
      "ADDED one item in result 12 item to ADD \n",
      "\n",
      "REMOVED one item in result 4 item to REMOVE\n",
      "\n",
      "ADDED one item in result 11 item to ADD \n",
      "REMOVED one item in result 3 item to REMOVE\n",
      "\n",
      "\n",
      "ADDED one item in result 10 item to ADD \n",
      "\n",
      "REMOVED one item in result 2 item to REMOVE\n",
      "\n",
      "REMOVED one item in result 1 item to REMOVE\n",
      "\n",
      "ADDED one item in result 9 item to ADD \n",
      "\n",
      "REMOVED one item in result 0 item to REMOVE\n",
      "ADDED one item in result 8 item to ADD \n",
      "\n",
      "\n",
      "ADDED one item in result 7 item to ADD \n",
      "\n",
      "ADDED one item in result 6 item to ADD \n",
      "\n",
      "ADDED one item in result 5 item to ADD \n",
      "\n",
      "ADDED one item in result 4 item to ADD \n",
      "\n",
      "ADDED one item in result 3 item to ADD \n",
      "\n",
      "ADDED one item in result 2 item to ADD \n",
      "\n",
      "ADDED one item in result 1 item to ADD \n",
      "\n",
      "ADDED one item in result 0 item to ADD \n",
      "\n"
     ]
    }
   ],
   "source": [
    "import threading\n",
    "import time\n",
    "import random\n",
    "\n",
    "class Bag:\n",
    "    def __init__(self):\n",
    "        self.lock = threading.RLock()\n",
    "        self.total_items = 0\n",
    "\n",
    "    def execute(self, value):\n",
    "        with self.lock:\n",
    "            self.total_items += value\n",
    "\n",
    "    def add(self):\n",
    "        with self.lock:\n",
    "            self.execute(1)\n",
    "\n",
    "    def remove(self):\n",
    "        with self.lock:\n",
    "            self.execute(-1)\n",
    "            \n",
    "def adder(bag, items):\n",
    "    print(\"{} items to ADD \\n\".format(items))\n",
    "    while items:\n",
    "        bag.add()\n",
    "        time.sleep(1)\n",
    "        items -= 1\n",
    "        print(\"ADDED one item in result {} item to ADD \\n\".format(items))\n",
    "\n",
    "def remover(bag, items):\n",
    "    print(\"{} items to REMOVE\\n\".format(items))\n",
    "    while items:\n",
    "        bag.remove()\n",
    "        time.sleep(1)\n",
    "        items -= 1\n",
    "        print(\"REMOVED one item in result {} item to REMOVE\\n\".format(items))\n",
    "        \n",
    "\n",
    "items = 10\n",
    "bag = Bag()\n",
    "\n",
    "t1 = threading.Thread(target=adder, \\\n",
    "                      args=(bag, random.randint(10,20)))\n",
    "t2 = threading.Thread(target=remover, \\\n",
    "                      args=(bag, random.randint(2,10)))\n",
    "\n",
    "t1.start()\n",
    "t2.start()\n",
    "\n",
    "t1.join()\n",
    "t2.join()"
   ]
  },
  {
   "cell_type": "code",
   "execution_count": 43,
   "id": "e6143a48",
   "metadata": {},
   "outputs": [
    {
     "data": {
      "text/plain": [
       "8"
      ]
     },
     "execution_count": 43,
     "metadata": {},
     "output_type": "execute_result"
    }
   ],
   "source": [
    "bag.total_items"
   ]
  },
  {
   "cell_type": "code",
   "execution_count": 44,
   "id": "a672c440",
   "metadata": {},
   "outputs": [
    {
     "name": "stdout",
     "output_type": "stream",
     "text": [
      "Getter is waiting\n",
      "creator item number 55\n",
      "Getter item number 55\n",
      "Getter is waiting\n",
      "creator item number 46\n",
      "Getter item number 46\n",
      "Getter is waiting\n",
      "creator item number 1\n",
      "Getter item number 1\n",
      "Getter is waiting\n",
      "creator item number 70\n",
      "Getter item number 70\n",
      "Getter is waiting\n",
      "creator item number 10\n",
      "Getter item number 10\n"
     ]
    }
   ],
   "source": [
    "import threading\n",
    "import time\n",
    "import random\n",
    "\n",
    "semaphore = threading.Semaphore(0)\n",
    "item = 0\n",
    "\n",
    "def getter():\n",
    "    print('Getter is waiting')\n",
    "    semaphore.acquire()\n",
    "    print(f'Getter item number {item}')\n",
    "\n",
    "def creator():\n",
    "    global item\n",
    "    time.sleep(3)\n",
    "    item = random.randint(0, 100)\n",
    "    print(f'creator item number {item}')\n",
    "    semaphore.release()\n",
    "\n",
    "    \n",
    "for i in range(5):\n",
    "    t1 = threading.Thread(target=getter)\n",
    "    t2 = threading.Thread(target=creator)\n",
    "\n",
    "    t1.start()\n",
    "    t2.start()\n",
    "\n",
    "    t1.join()\n",
    "    t2.join()"
   ]
  },
  {
   "cell_type": "code",
   "execution_count": 45,
   "id": "3583485f",
   "metadata": {},
   "outputs": [],
   "source": [
    "import threading\n",
    "import time\n",
    "\n",
    "items = []\n",
    "condition = threading.Condition()\n",
    "\n",
    "\n",
    "class Getter(threading.Thread):\n",
    "    def __init__(self, *args, **kwargs):\n",
    "        super().__init__(*args, **kwargs)\n",
    "\n",
    "    def get(self):\n",
    "        with condition:\n",
    "            if len(items) == 0:\n",
    "                print('no items to get')\n",
    "                condition.wait()\n",
    "\n",
    "            items.pop()\n",
    "            print('got 1 item')\n",
    "            condition.notify()\n",
    "\n",
    "    def run(self):\n",
    "        for i in range(20):\n",
    "            time.sleep(2)\n",
    "            self.get()\n",
    "\n",
    "\n",
    "class Creator(threading.Thread):\n",
    "    def __init__(self, *args, **kwargs):\n",
    "        super().__init__(*args, **kwargs)\n",
    "\n",
    "    def create(self):\n",
    "\n",
    "        with condition:\n",
    "            if len(items) == 10:\n",
    "                print('items created {}. Stopped'.format(len(items)))\n",
    "                condition.wait()\n",
    "\n",
    "            items.append(1)\n",
    "            print('total items {}'.format(len(items)))\n",
    "\n",
    "            condition.notify()\n",
    "\n",
    "    def run(self):\n",
    "        for i in range(20):\n",
    "            time.sleep(0.5)\n",
    "            self.create()"
   ]
  },
  {
   "cell_type": "code",
   "execution_count": 46,
   "id": "a01c41ed",
   "metadata": {},
   "outputs": [
    {
     "name": "stdout",
     "output_type": "stream",
     "text": [
      "total items 1\n",
      "total items 2\n",
      "total items 3\n",
      "got 1 item\n",
      "total items 3\n",
      "total items 4\n",
      "total items 5\n",
      "total items 6\n",
      "got 1 item\n",
      "total items 6\n",
      "total items 7\n",
      "total items 8\n",
      "total items 9\n",
      "got 1 item\n",
      "total items 9\n",
      "total items 10\n",
      "items created 10. Stopped\n",
      "got 1 item\n",
      "total items 10\n",
      "items created 10. Stopped\n",
      "got 1 item\n",
      "total items 10\n",
      "items created 10. Stopped\n"
     ]
    },
    {
     "ename": "KeyboardInterrupt",
     "evalue": "",
     "output_type": "error",
     "traceback": [
      "\u001b[0;31m---------------------------------------------------------------------------\u001b[0m",
      "\u001b[0;31mKeyboardInterrupt\u001b[0m                         Traceback (most recent call last)",
      "Cell \u001b[0;32mIn[46], line 7\u001b[0m\n\u001b[1;32m      4\u001b[0m t1\u001b[38;5;241m.\u001b[39mstart()\n\u001b[1;32m      5\u001b[0m t2\u001b[38;5;241m.\u001b[39mstart()\n\u001b[0;32m----> 7\u001b[0m \u001b[43mt1\u001b[49m\u001b[38;5;241;43m.\u001b[39;49m\u001b[43mjoin\u001b[49m\u001b[43m(\u001b[49m\u001b[43m)\u001b[49m\n\u001b[1;32m      8\u001b[0m t2\u001b[38;5;241m.\u001b[39mjoin()\n",
      "File \u001b[0;32m/opt/homebrew/Cellar/python@3.11/3.11.1/Frameworks/Python.framework/Versions/3.11/lib/python3.11/threading.py:1112\u001b[0m, in \u001b[0;36mThread.join\u001b[0;34m(self, timeout)\u001b[0m\n\u001b[1;32m   1109\u001b[0m     \u001b[38;5;28;01mraise\u001b[39;00m \u001b[38;5;167;01mRuntimeError\u001b[39;00m(\u001b[38;5;124m\"\u001b[39m\u001b[38;5;124mcannot join current thread\u001b[39m\u001b[38;5;124m\"\u001b[39m)\n\u001b[1;32m   1111\u001b[0m \u001b[38;5;28;01mif\u001b[39;00m timeout \u001b[38;5;129;01mis\u001b[39;00m \u001b[38;5;28;01mNone\u001b[39;00m:\n\u001b[0;32m-> 1112\u001b[0m     \u001b[38;5;28;43mself\u001b[39;49m\u001b[38;5;241;43m.\u001b[39;49m\u001b[43m_wait_for_tstate_lock\u001b[49m\u001b[43m(\u001b[49m\u001b[43m)\u001b[49m\n\u001b[1;32m   1113\u001b[0m \u001b[38;5;28;01melse\u001b[39;00m:\n\u001b[1;32m   1114\u001b[0m     \u001b[38;5;66;03m# the behavior of a negative timeout isn't documented, but\u001b[39;00m\n\u001b[1;32m   1115\u001b[0m     \u001b[38;5;66;03m# historically .join(timeout=x) for x<0 has acted as if timeout=0\u001b[39;00m\n\u001b[1;32m   1116\u001b[0m     \u001b[38;5;28mself\u001b[39m\u001b[38;5;241m.\u001b[39m_wait_for_tstate_lock(timeout\u001b[38;5;241m=\u001b[39m\u001b[38;5;28mmax\u001b[39m(timeout, \u001b[38;5;241m0\u001b[39m))\n",
      "File \u001b[0;32m/opt/homebrew/Cellar/python@3.11/3.11.1/Frameworks/Python.framework/Versions/3.11/lib/python3.11/threading.py:1132\u001b[0m, in \u001b[0;36mThread._wait_for_tstate_lock\u001b[0;34m(self, block, timeout)\u001b[0m\n\u001b[1;32m   1129\u001b[0m     \u001b[38;5;28;01mreturn\u001b[39;00m\n\u001b[1;32m   1131\u001b[0m \u001b[38;5;28;01mtry\u001b[39;00m:\n\u001b[0;32m-> 1132\u001b[0m     \u001b[38;5;28;01mif\u001b[39;00m \u001b[43mlock\u001b[49m\u001b[38;5;241;43m.\u001b[39;49m\u001b[43macquire\u001b[49m\u001b[43m(\u001b[49m\u001b[43mblock\u001b[49m\u001b[43m,\u001b[49m\u001b[43m \u001b[49m\u001b[43mtimeout\u001b[49m\u001b[43m)\u001b[49m:\n\u001b[1;32m   1133\u001b[0m         lock\u001b[38;5;241m.\u001b[39mrelease()\n\u001b[1;32m   1134\u001b[0m         \u001b[38;5;28mself\u001b[39m\u001b[38;5;241m.\u001b[39m_stop()\n",
      "\u001b[0;31mKeyboardInterrupt\u001b[0m: "
     ]
    }
   ],
   "source": [
    "t1 = Getter()\n",
    "t2 = Creator()\n",
    "\n",
    "t1.start()\n",
    "t2.start()\n",
    "\n",
    "t1.join()\n",
    "t2.join()"
   ]
  },
  {
   "cell_type": "code",
   "execution_count": 47,
   "id": "81b133b8",
   "metadata": {},
   "outputs": [],
   "source": [
    "items = []\n",
    "\n",
    "event = threading.Event()\n",
    "\n",
    "class Getter(threading.Thread):\n",
    "    def __init__(self, *args, **kwargs):\n",
    "        super().__init__(*args, **kwargs)\n",
    "\n",
    "    def run(self):\n",
    "        while True:\n",
    "            time.sleep(2)\n",
    "            event.wait()\n",
    "            item = items.pop()\n",
    "            print(f'Getter {item} popped by {self.name}')\n",
    "            \n",
    "            \n",
    "class Creator(threading.Thread):\n",
    "    def __init__(self, *args, **kwargs):\n",
    "        super().__init__(*args, **kwargs)\n",
    "        \n",
    "    def run(self):\n",
    "        for i in range(5):\n",
    "            time.sleep(2)\n",
    "            item = random.randint(0, 100)\n",
    "            items.append(item)\n",
    "            print(f'Creator item {item} appended by {self.name}')\n",
    "            event.set()\n",
    "        event.clear()"
   ]
  },
  {
   "cell_type": "code",
   "execution_count": 48,
   "id": "b43e68eb",
   "metadata": {},
   "outputs": [
    {
     "name": "stdout",
     "output_type": "stream",
     "text": [
      "no items to get\n",
      "Creator item 84 appended by Thread-80\n",
      "Getter 84 popped by Thread-81\n"
     ]
    },
    {
     "name": "stderr",
     "output_type": "stream",
     "text": [
      "Exception in thread Thread-81:\n",
      "Traceback (most recent call last):\n",
      "  File \"/opt/homebrew/Cellar/python@3.11/3.11.1/Frameworks/Python.framework/Versions/3.11/lib/python3.11/threading.py\", line 1038, in _bootstrap_inner\n",
      "    self.run()\n",
      "  File \"/var/folders/hx/c2bmt9hn1b5f_135wkslfgzw0000gn/T/ipykernel_21112/4138553155.py\", line 13, in run\n",
      "IndexError: pop from empty list\n"
     ]
    },
    {
     "name": "stdout",
     "output_type": "stream",
     "text": [
      "Creator item 21 appended by Thread-80\n",
      "Creator item 80 appended by Thread-80\n",
      "Creator item 43 appended by Thread-80\n",
      "Creator item 88 appended by Thread-80\n"
     ]
    }
   ],
   "source": [
    "t1 = Creator()\n",
    "t2 = Getter()\n",
    "\n",
    "t1.start()\n",
    "t2.start()\n",
    "\n",
    "t1.join()\n",
    "t2.join()"
   ]
  },
  {
   "cell_type": "code",
   "execution_count": 49,
   "id": "7daff334",
   "metadata": {},
   "outputs": [
    {
     "name": "stdout",
     "output_type": "stream",
     "text": [
      "START!!!!\n",
      "Louie reached barrier: Thu Jun  8 00:05:39 2023 \n",
      "\n",
      "Huey reached barrier: Thu Jun  8 00:05:39 2023 \n",
      "\n",
      "Dewey reached barrier: Thu Jun  8 00:05:40 2023 \n",
      "\n",
      "Over!\n"
     ]
    }
   ],
   "source": [
    "from random import randrange\n",
    "from threading import Barrier, Thread\n",
    "from time import ctime, sleep\n",
    "\n",
    "num_runners = 3\n",
    "finish_line = Barrier(num_runners)\n",
    "runners = ['Huey', 'Dewey', 'Louie']\n",
    "\n",
    "def runner():\n",
    "    name = runners.pop()\n",
    "    sleep(randrange(2, 5))\n",
    "    print('%s reached barrier: %s \\n' % (name, ctime()))\n",
    "    finish_line.wait()\n",
    "\n",
    "threads = []\n",
    "print('START!!!!')\n",
    "for i in range(num_runners):\n",
    "    threads.append(Thread(target=runner))\n",
    "    threads[-1].start()\n",
    "for thread in threads:\n",
    "    thread.join()\n",
    "print('Over!')"
   ]
  },
  {
   "cell_type": "code",
   "execution_count": null,
   "id": "db7e24f7",
   "metadata": {},
   "outputs": [
    {
     "name": "stdout",
     "output_type": "stream",
     "text": [
      "Creator : 32 appended to queue by Thread-85\n",
      "\n",
      "Getter : 32 popped from queue by Thread-86\n",
      "Creator : 216 appended to queue by Thread-85\n",
      "Getter : 216 popped from queue by Thread-86\n",
      "\n",
      "Creator : 121 appended to queue by Thread-85\n",
      "Getter : 121 popped from queue by Thread-87\n",
      "\n",
      "Creator : 104 appended to queue by Thread-85\n",
      "Getter : 104 popped from queue by Thread-88\n",
      "\n",
      "Creator : 153 appended to queue by Thread-85\n",
      "Getter : 153 popped from queue by Thread-86\n",
      "\n"
     ]
    }
   ],
   "source": [
    "from threading import Thread\n",
    "from queue import Queue\n",
    "import time\n",
    "import random\n",
    "\n",
    "class Creator(Thread):\n",
    "    def __init__(self, queue):\n",
    "        Thread.__init__(self)\n",
    "        self.queue = queue\n",
    "    def run(self):\n",
    "        for i in range(5):\n",
    "            item = random.randint(0, 256)\n",
    "            self.queue.put(item)\n",
    "            print('Creator : %d appended to queue by %s\\n' % (item, self.name))\n",
    "            time.sleep(1)\n",
    "\n",
    "class Getter(Thread):\n",
    "    def __init__(self, queue):\n",
    "        Thread.__init__(self)\n",
    "        self.queue = queue\n",
    "\n",
    "    def run(self):\n",
    "        while True:\n",
    "            item = self.queue.get()\n",
    "            print('Getter : %d popped from queue by %s' % (item, self.name))\n",
    "            self.queue.task_done()\n",
    "\n",
    "queue = Queue()\n",
    "t1 = Creator(queue)\n",
    "t2 = Getter(queue)\n",
    "t3 = Getter(queue)\n",
    "t4 = Getter(queue)\n",
    "\n",
    "t1.start()\n",
    "t2.start()\n",
    "t3.start()\n",
    "t4.start()\n",
    "\n",
    "t1.join()\n",
    "t2.join()\n",
    "t3.join()\n",
    "t4.join()\n"
   ]
  },
  {
   "cell_type": "code",
   "execution_count": null,
   "id": "a79b28ee",
   "metadata": {},
   "outputs": [],
   "source": []
  },
  {
   "cell_type": "code",
   "execution_count": null,
   "id": "0bdf59af",
   "metadata": {},
   "outputs": [],
   "source": []
  }
 ],
 "metadata": {
  "kernelspec": {
   "display_name": "Python 3 (ipykernel)",
   "language": "python",
   "name": "python3"
  },
  "language_info": {
   "codemirror_mode": {
    "name": "ipython",
    "version": 3
   },
   "file_extension": ".py",
   "mimetype": "text/x-python",
   "name": "python",
   "nbconvert_exporter": "python",
   "pygments_lexer": "ipython3",
   "version": "3.11.1"
  }
 },
 "nbformat": 4,
 "nbformat_minor": 5
}
