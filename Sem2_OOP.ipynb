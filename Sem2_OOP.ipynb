{
 "cells": [
  {
   "cell_type": "markdown",
   "id": "f11acabe",
   "metadata": {},
   "source": [
    "# Объектно-ориентированное программирование на python"
   ]
  },
  {
   "cell_type": "markdown",
   "id": "5dc1a1b6",
   "metadata": {},
   "source": [
    "## Декораторы"
   ]
  },
  {
   "cell_type": "code",
   "execution_count": 2,
   "id": "f6f224c2",
   "metadata": {},
   "outputs": [
    {
     "name": "stdout",
     "output_type": "stream",
     "text": [
      "Usual decorator\n",
      "I'm alive! Hello world!\n",
      "I'm alive! Hello world!\n",
      "\n",
      "I'm alive! Hello world!\n",
      "I'm alive! Hello world!\n",
      "\n",
      "\n",
      "Construction equal to ususal decorator\n",
      "I'm alive two! Hello world!\n",
      "I'm alive two! Hello world!\n",
      "\n",
      "What will be when we use construction equal to decorator with decorated method\n",
      "I'm alive! Hello world!\n",
      "I'm alive! Hello world!\n",
      "\n",
      "I'm alive! Hello world!\n",
      "I'm alive! Hello world!\n",
      "\n",
      "\n",
      "I'm alive! Hello world!\n",
      "I'm alive! Hello world!\n",
      "\n",
      "I'm alive! Hello world!\n",
      "I'm alive! Hello world!\n",
      "\n",
      "\n",
      "\n"
     ]
    }
   ],
   "source": [
    "def do_it_two_times(func):\n",
    "    def _wrapper(*args, **kwargs):\n",
    "        for i in range(2):\n",
    "            func(*args, **kwargs)\n",
    "        print()\n",
    "    return _wrapper\n",
    "\n",
    "@do_it_two_times\n",
    "@do_it_two_times\n",
    "def print_message(text):\n",
    "    print(\"I'm alive!\" + str(text))\n",
    "    \n",
    "def print_message_two(text):\n",
    "    print(\"I'm alive two!\" + str(text))\n",
    "\n",
    "print('Usual decorator')\n",
    "print_message(text=' Hello world!')\n",
    "print('Construction equal to ususal decorator')\n",
    "do_it_two_times(print_message_two)(text=' Hello world!')\n",
    "print('What will be when we use construction equal to decorator with decorated method')\n",
    "do_it_two_times(print_message)(text=' Hello world!')"
   ]
  },
  {
   "cell_type": "code",
   "execution_count": 3,
   "id": "4326c6ff",
   "metadata": {},
   "outputs": [
    {
     "name": "stdout",
     "output_type": "stream",
     "text": [
      "Usual decorator\n",
      "I'm alive! Hello world!\n",
      "I'm alive! Hello world!\n",
      "I'm alive! Hello world!\n",
      "\n",
      "Construction equal to ususal decorator\n",
      "I'm alive two! Hello world!\n",
      "I'm alive two! Hello world!\n",
      "\n",
      "What will be when we use construction equal to decorator with decorated method\n",
      "I'm alive! Hello world!\n",
      "I'm alive! Hello world!\n",
      "I'm alive! Hello world!\n",
      "\n",
      "I'm alive! Hello world!\n",
      "I'm alive! Hello world!\n",
      "I'm alive! Hello world!\n",
      "\n",
      "\n"
     ]
    }
   ],
   "source": [
    "def do_it_n_times(n=5):\n",
    "    def _wrapper_first(func):\n",
    "        def _wrapper(*args, **kwargs):\n",
    "            for i in range(n):\n",
    "                func(*args, **kwargs)\n",
    "            print()\n",
    "        return _wrapper\n",
    "    return _wrapper_first\n",
    "\n",
    "@do_it_n_times(3)\n",
    "def print_message(text):\n",
    "    print(\"I'm alive!\" + str(text))\n",
    "    \n",
    "def print_message_two(text):\n",
    "    print(\"I'm alive two!\" + str(text))\n",
    "\n",
    "print('Usual decorator')\n",
    "print_message(text=' Hello world!')\n",
    "print('Construction equal to ususal decorator')\n",
    "do_it_n_times(n=2)(print_message_two)(text=' Hello world!')\n",
    "print('What will be when we use construction equal to decorator with decorated method')\n",
    "do_it_n_times(n=2)(print_message)(text=' Hello world!')"
   ]
  },
  {
   "cell_type": "code",
   "execution_count": 4,
   "id": "3686fdc0",
   "metadata": {},
   "outputs": [
    {
     "name": "stdout",
     "output_type": "stream",
     "text": [
      "MyClass took 0.0000 secs\n"
     ]
    },
    {
     "data": {
      "text/plain": [
       "42"
      ]
     },
     "execution_count": 4,
     "metadata": {},
     "output_type": "execute_result"
    }
   ],
   "source": [
    "import functools\n",
    "import time\n",
    "\n",
    "def timer(func):\n",
    "    @functools.wraps(func)\n",
    "    def _wrapper(*args, **kwargs):\n",
    "        start = time.perf_counter()\n",
    "        result = func(*args, **kwargs)\n",
    "        runtime = time.perf_counter() - start\n",
    "        print(f\"{func.__name__} took {runtime:.4f} secs\")\n",
    "        return result\n",
    "    return _wrapper\n",
    "\n",
    "@timer\n",
    "class MyClass:\n",
    "    def complex_calculation(self):\n",
    "        time.sleep(1)\n",
    "        return 42\n",
    "\n",
    "my_obj = MyClass()\n",
    "my_obj.complex_calculation()"
   ]
  },
  {
   "cell_type": "code",
   "execution_count": 5,
   "id": "be11c133",
   "metadata": {},
   "outputs": [
    {
     "name": "stdout",
     "output_type": "stream",
     "text": [
      "Called 1 times\n",
      "Called 2 times\n",
      "Called 3 times\n"
     ]
    }
   ],
   "source": [
    "class MyDecorator:\n",
    "    def __init__(self, function):\n",
    "        self.function = function\n",
    "        self.counter = 0\n",
    "    \n",
    "    def __call__(self, *args, **kwargs):\n",
    "        self.function(*args, **kwargs)\n",
    "        self.counter+=1\n",
    "        print(f\"Called {self.counter} times\")\n",
    "\n",
    "\n",
    "@MyDecorator\n",
    "def some_function():\n",
    "    return 42\n",
    "\n",
    "\n",
    "some_function()\n",
    "some_function()\n",
    "some_function()"
   ]
  },
  {
   "cell_type": "code",
   "execution_count": 6,
   "id": "90f64791",
   "metadata": {},
   "outputs": [
    {
     "name": "stdout",
     "output_type": "stream",
     "text": [
      "10\n",
      "5\n",
      "100\n",
      "50\n"
     ]
    }
   ],
   "source": [
    "class MyClass:\n",
    "    def __init__(self, x):\n",
    "        self.x = x\n",
    "    \n",
    "    @property\n",
    "    def x_doubled(self):\n",
    "        return self.x * 2\n",
    "    \n",
    "    @x_doubled.setter\n",
    "    def x_doubled(self, x_doubled):\n",
    "        self.x = x_doubled // 2\n",
    "\n",
    "my_object = MyClass(5) \n",
    "print(my_object.x_doubled)  #  10  \n",
    "print(my_object.x)          #  5  \n",
    "my_object.x_doubled = 100   #    \n",
    "print(my_object.x_doubled)  #  100 \n",
    "print(my_object.x)          #  50 "
   ]
  },
  {
   "cell_type": "code",
   "execution_count": 7,
   "id": "8e3cfe2e",
   "metadata": {},
   "outputs": [
    {
     "name": "stdout",
     "output_type": "stream",
     "text": [
      "42\n"
     ]
    }
   ],
   "source": [
    "class C:\n",
    "    @staticmethod\n",
    "    def the_static_method(arg1, arg2):\n",
    "        return 42\n",
    "\n",
    "print(C.the_static_method(1, 2))"
   ]
  },
  {
   "cell_type": "code",
   "execution_count": 9,
   "id": "57e77789",
   "metadata": {},
   "outputs": [
    {
     "name": "stdout",
     "output_type": "stream",
     "text": [
      "1200\n"
     ]
    }
   ],
   "source": [
    "from dataclasses import dataclass\n",
    "\n",
    "@dataclass\n",
    "class InventoryItem:\n",
    "    name: str\n",
    "    unit_price: float\n",
    "    quantity: int = 0\n",
    "\n",
    "    def total_cost(self) -> float:\n",
    "        return self.unit_price * self.quantity\n",
    "\n",
    "\n",
    "item = InventoryItem(name=\"\", unit_price=12, quantity=100)\n",
    "print(item.total_cost())"
   ]
  },
  {
   "cell_type": "code",
   "execution_count": null,
   "id": "76e7712f",
   "metadata": {},
   "outputs": [],
   "source": []
  },
  {
   "cell_type": "markdown",
   "id": "3259897e",
   "metadata": {},
   "source": [
    "## Классы Python"
   ]
  },
  {
   "cell_type": "markdown",
   "id": "a4eb9401",
   "metadata": {},
   "source": [
    "class название_класса:\n",
    "\n",
    "    атрибуты_класса\n",
    "    \n",
    "    методы_класса"
   ]
  },
  {
   "cell_type": "code",
   "execution_count": 10,
   "id": "723a2a62",
   "metadata": {},
   "outputs": [],
   "source": [
    "class Cat:\n",
    "    pass\n",
    " \n",
    "tom = Cat()      # определение объекта tom\n",
    "bob = Cat()      # определение объекта bob"
   ]
  },
  {
   "cell_type": "code",
   "execution_count": 11,
   "id": "6abef853",
   "metadata": {},
   "outputs": [
    {
     "data": {
      "text/plain": [
       "<__main__.Cat at 0x104a62910>"
      ]
     },
     "execution_count": 11,
     "metadata": {},
     "output_type": "execute_result"
    }
   ],
   "source": [
    "tom"
   ]
  },
  {
   "cell_type": "code",
   "execution_count": 12,
   "id": "3cbb9b7a",
   "metadata": {},
   "outputs": [
    {
     "name": "stdout",
     "output_type": "stream",
     "text": [
      "Meow\n"
     ]
    }
   ],
   "source": [
    "class Cat:       # определение класса Cat\n",
    "    def say(self):\n",
    "        print(\"Meow\")\n",
    " \n",
    "tom = Cat()\n",
    "tom.say()    # Hello"
   ]
  },
  {
   "cell_type": "code",
   "execution_count": 13,
   "id": "3b158f53",
   "metadata": {},
   "outputs": [
    {
     "name": "stdout",
     "output_type": "stream",
     "text": [
      "Meow\n"
     ]
    }
   ],
   "source": [
    "class Cat:\n",
    "    def say(self, message):\n",
    "        print(message)\n",
    " \n",
    "    def say_meow(self):\n",
    "        self.say(\"Meow\")  # обращаемся к выше определенному методу say\n",
    " \n",
    " \n",
    "tom = Cat()\n",
    "tom.say_meow()"
   ]
  },
  {
   "cell_type": "code",
   "execution_count": null,
   "id": "18bb6ab0",
   "metadata": {},
   "outputs": [],
   "source": [
    "__new__ -> __init__"
   ]
  },
  {
   "cell_type": "code",
   "execution_count": 14,
   "id": "cdacaf5e",
   "metadata": {},
   "outputs": [
    {
     "name": "stdout",
     "output_type": "stream",
     "text": [
      "Создание объекта Cat\n",
      "Meow\n"
     ]
    }
   ],
   "source": [
    "class Cat:\n",
    "    # конструктор\n",
    "    def __init__(self):\n",
    "        print(\"Создание объекта Cat\")\n",
    " \n",
    "    def say_hello(self):\n",
    "        print(\"Meow\")\n",
    "         \n",
    "         \n",
    "tom = Cat()      # Создание объекта Person\n",
    "tom.say_hello()     # Hello"
   ]
  },
  {
   "cell_type": "code",
   "execution_count": 16,
   "id": "28e7e399",
   "metadata": {},
   "outputs": [
    {
     "name": "stdout",
     "output_type": "stream",
     "text": [
      "Tom\n",
      "1\n",
      "37\n"
     ]
    }
   ],
   "source": [
    "class Cat:\n",
    "    def __init__(self, name):\n",
    "        self.name = name    # имя\n",
    "        self.age = 1        # возраст\n",
    " \n",
    " \n",
    "tom = Cat(\"Tom\")\n",
    " \n",
    "# обращение к атрибутам\n",
    "# получение значений\n",
    "print(tom.name)     # Tom\n",
    "print(tom.age)      # 1\n",
    "# изменение значения\n",
    "tom.age = 37\n",
    "print(tom.age)      # 37"
   ]
  },
  {
   "cell_type": "code",
   "execution_count": 17,
   "id": "37e3bd9d",
   "metadata": {},
   "outputs": [
    {
     "name": "stdout",
     "output_type": "stream",
     "text": [
      "White\n"
     ]
    }
   ],
   "source": [
    "class Cat:\n",
    " \n",
    "    def __init__(self, name):\n",
    "        self.name = name    # имя\n",
    "        self.age = 1        # возраст\n",
    " \n",
    " \n",
    "tom = Cat(\"Tom\")\n",
    " \n",
    "tom.color = \"White\"\n",
    "print(tom.color)  # Microsoft"
   ]
  },
  {
   "cell_type": "markdown",
   "id": "2301efca",
   "metadata": {},
   "source": [
    "## Ключевыми особенностями ООП являются понятия:\n",
    "\n",
    "* абстракция; \n",
    "\n",
    "* инкапсуляция; \n",
    "\n",
    "* наследование; \n",
    "\n",
    "* полиморфизм."
   ]
  },
  {
   "cell_type": "markdown",
   "id": "a28abe23",
   "metadata": {},
   "source": [
    "## Инкапсуляция"
   ]
  },
  {
   "cell_type": "markdown",
   "id": "66d95b16",
   "metadata": {},
   "source": [
    "**Инкапсуляция** – это свойство системы, позволяющее объединить данные и методы, работающие с ними, в классе и скрыть детали реализации от пользователя.\n"
   ]
  },
  {
   "cell_type": "code",
   "execution_count": 18,
   "id": "18885f1a",
   "metadata": {},
   "outputs": [
    {
     "name": "stdout",
     "output_type": "stream",
     "text": [
      "Animal\n",
      "Jerry\n"
     ]
    }
   ],
   "source": [
    "# protected\n",
    "\n",
    "class Animal:\n",
    "    def __init__(self):\n",
    "        self._type = 'Animal'\n",
    "\n",
    "class Cat(Animal):\n",
    "    def __init__(self):\n",
    "        super().__init__()\n",
    "        self._name = 'Jerry'\n",
    "        \n",
    "    def get_type(self):\n",
    "        print(self._type)\n",
    "        \n",
    "c = Cat()\n",
    "c.get_type()\n",
    "print(c._name)"
   ]
  },
  {
   "cell_type": "code",
   "execution_count": 20,
   "id": "ad5b0da2",
   "metadata": {},
   "outputs": [
    {
     "name": "stdout",
     "output_type": "stream",
     "text": [
      "I can't destinate this attribute\n",
      "Jerry\n",
      "Ann\n",
      "I was deleted\n"
     ]
    }
   ],
   "source": [
    "# private\n",
    "\n",
    "class Animal:\n",
    "    def __init__(self):\n",
    "        self.__type = 'Animal'\n",
    "\n",
    "class Cat(Animal):\n",
    "    def __init__(self):\n",
    "        super().__init__()\n",
    "        self.__name = 'Jerry'\n",
    "        \n",
    "    def get_type(self):\n",
    "        try:\n",
    "            print(self.__type)\n",
    "        except:\n",
    "            print(\"I can't destinate this attribute\")\n",
    "    \n",
    "    @property\n",
    "    def name(self):\n",
    "        return self.__name\n",
    "    \n",
    "    @name.setter\n",
    "    def name(self, value):\n",
    "        self.__name = value\n",
    "        \n",
    "    @name.deleter\n",
    "    def name(self):\n",
    "        self.__name = 'I was deleted'\n",
    "        \n",
    "c = Cat()\n",
    "c.get_type()\n",
    "\n",
    "# print(c.__name)\n",
    "print(c.name)\n",
    "c.name = 'Ann'\n",
    "print(c.name)\n",
    "del c.name\n",
    "print(c.name)"
   ]
  },
  {
   "cell_type": "markdown",
   "id": "d25898a4",
   "metadata": {},
   "source": [
    "## Наследование"
   ]
  },
  {
   "cell_type": "code",
   "execution_count": 21,
   "id": "a2f2c4b2",
   "metadata": {},
   "outputs": [
    {
     "name": "stdout",
     "output_type": "stream",
     "text": [
      "I'm Animal\n",
      "Meow\n",
      "Animal\n",
      "Animal\n",
      "Meow\n"
     ]
    }
   ],
   "source": [
    "class Animal:\n",
    "    def __init__(self):\n",
    "        self.type = 'Animal'\n",
    "        print(\"I'm Animal\")\n",
    "        \n",
    "    def say_type(self):\n",
    "        print(self.type)\n",
    "        \n",
    "class Cat(Animal):\n",
    "    def __init__(self):\n",
    "        super().__init__()\n",
    "        self.voice = 'Meow'\n",
    "        \n",
    "    def say_something(self):\n",
    "        print(self.voice)\n",
    "        \n",
    "c = Cat()\n",
    "print(c.voice)\n",
    "print(c.type)\n",
    "c.say_type()\n",
    "c.say_something()"
   ]
  },
  {
   "cell_type": "code",
   "execution_count": 22,
   "id": "6436c743",
   "metadata": {},
   "outputs": [
    {
     "name": "stdout",
     "output_type": "stream",
     "text": [
      "Riding on a ground\n",
      "Sailing in the ocean\n"
     ]
    }
   ],
   "source": [
    "class Auto:\n",
    "    def ride(self):\n",
    "        print(\"Riding on a ground\")\n",
    "\n",
    "class Boat:\n",
    "    def swim(self):\n",
    "        print(\"Sailing in the ocean\")\n",
    "        \n",
    "class Amphibian(Auto, Boat):\n",
    "    pass\n",
    " \n",
    "a = Amphibian()\n",
    "a.ride()\n",
    "a.swim()"
   ]
  },
  {
   "cell_type": "code",
   "execution_count": 23,
   "id": "44e5fb9e",
   "metadata": {},
   "outputs": [
    {
     "name": "stdout",
     "output_type": "stream",
     "text": [
      "True\n",
      "True\n",
      "True\n"
     ]
    }
   ],
   "source": [
    "print(isinstance(a, Auto))\n",
    "print(isinstance(a, Boat))\n",
    "print(isinstance(a, Amphibian))"
   ]
  },
  {
   "cell_type": "code",
   "execution_count": 24,
   "id": "c5925eaa",
   "metadata": {},
   "outputs": [
    {
     "name": "stdout",
     "output_type": "stream",
     "text": [
      "Riding a car\n",
      "Now playing: Queen - Bohemian Rhapsody \n"
     ]
    }
   ],
   "source": [
    "class Car:\n",
    "    def ride(self):\n",
    "        print(\"Riding a car\")\n",
    " \n",
    "    def play_music(self, song):\n",
    "        print(\"Now playing: {} \".format(song))\n",
    " \n",
    "c = Car()\n",
    "c.ride()\n",
    "c.play_music(\"Queen - Bohemian Rhapsody\")"
   ]
  },
  {
   "cell_type": "code",
   "execution_count": 25,
   "id": "dc1f4f7f",
   "metadata": {},
   "outputs": [],
   "source": [
    "class MusicPlayerMixin:\n",
    "    def play_music(self, song):\n",
    "        print(\"Now playing: {}\".format(song))"
   ]
  },
  {
   "cell_type": "code",
   "execution_count": 26,
   "id": "994f51c2",
   "metadata": {},
   "outputs": [],
   "source": [
    "class Smartphone(MusicPlayerMixin):\n",
    "    pass\n",
    " \n",
    " \n",
    "class Radio(MusicPlayerMixin):\n",
    "    pass\n",
    " \n",
    " \n",
    "class Amphibian(Auto, Boat, MusicPlayerMixin):\n",
    "    pass"
   ]
  },
  {
   "cell_type": "code",
   "execution_count": 28,
   "id": "530412cf",
   "metadata": {},
   "outputs": [
    {
     "name": "stdout",
     "output_type": "stream",
     "text": [
      "B\n"
     ]
    }
   ],
   "source": [
    "class A:\n",
    "    def hi(self):\n",
    "        print(\"A\")\n",
    " \n",
    "class B(A):\n",
    "    def hi(self):\n",
    "        print(\"B\")\n",
    " \n",
    "class C(A):\n",
    "    def hi(self):\n",
    "        print(\"C\")\n",
    " \n",
    "class D(B, C):\n",
    "    pass\n",
    " \n",
    "d = D()\n",
    "d.hi()"
   ]
  },
  {
   "cell_type": "code",
   "execution_count": null,
   "id": "023d96ab",
   "metadata": {},
   "outputs": [],
   "source": [
    "    A\n",
    "B       C"
   ]
  },
  {
   "cell_type": "code",
   "execution_count": 29,
   "id": "ec317d2f",
   "metadata": {},
   "outputs": [
    {
     "data": {
      "text/plain": [
       "[__main__.D, __main__.B, __main__.C, __main__.A, object]"
      ]
     },
     "execution_count": 29,
     "metadata": {},
     "output_type": "execute_result"
    }
   ],
   "source": [
    "D.mro()"
   ]
  },
  {
   "cell_type": "code",
   "execution_count": 30,
   "id": "6ef79c41",
   "metadata": {},
   "outputs": [
    {
     "name": "stdout",
     "output_type": "stream",
     "text": [
      "C\n"
     ]
    }
   ],
   "source": [
    "class D(B, C):\n",
    "    def call_hi(self):\n",
    "        C.hi(self)\n",
    " \n",
    "d = D()\n",
    "d.call_hi()"
   ]
  },
  {
   "cell_type": "markdown",
   "id": "8545f92c",
   "metadata": {},
   "source": [
    "## Полиморфизм"
   ]
  },
  {
   "cell_type": "markdown",
   "id": "51f8df22",
   "metadata": {},
   "source": [
    "**Полиморфизм** — это возможность обработки разных типов данных, т. е. принадлежащих к разным классам, с помощью \"одной и той же\" функции, или метода."
   ]
  },
  {
   "cell_type": "code",
   "execution_count": 31,
   "id": "f98726ab",
   "metadata": {},
   "outputs": [],
   "source": [
    "# magic methods\n",
    "\n",
    "class Animal:\n",
    "    def __init__(self, v):\n",
    "        print('Init op')\n",
    "        self.value = v\n",
    "        \n",
    "    def __new__(cls, *args, **kwargs):\n",
    "        print('New op')\n",
    "        instance = super().__new__(cls)\n",
    "        return instance\n",
    "    \n",
    "    def __del__(self):\n",
    "        print('Delete op')\n",
    "        self.value = 0\n",
    "    \n",
    "    def __pos__(self):\n",
    "        # +obj\n",
    "        print('Pos op')\n",
    "    \n",
    "    def __neg__(self):\n",
    "        # -obj\n",
    "        print('Neg op')\n",
    "        self.value *= -1\n",
    "        \n",
    "    def __eq__(self, obj):\n",
    "        print('Eq op')\n",
    "        return self.value == obj"
   ]
  },
  {
   "cell_type": "code",
   "execution_count": 33,
   "id": "e1a1bf4b",
   "metadata": {},
   "outputs": [
    {
     "name": "stdout",
     "output_type": "stream",
     "text": [
      "New op\n",
      "Init op\n",
      "\n",
      "New op\n",
      "Init op\n",
      "\n",
      "Pos op\n",
      "\n",
      "6\n",
      "Neg op\n",
      "-6\n",
      "\n",
      "Eq op\n",
      "Eq op\n",
      "False\n",
      "\n",
      "Eq op\n",
      "True\n",
      "\n",
      "Delete op\n",
      "\n",
      "Delete op\n"
     ]
    }
   ],
   "source": [
    "a = Animal(5)\n",
    "print()\n",
    "\n",
    "b = Animal(6)\n",
    "print()\n",
    "\n",
    "+a\n",
    "print()\n",
    "\n",
    "print(b.value)\n",
    "-b\n",
    "print(b.value)\n",
    "print()\n",
    "\n",
    "print(a == b)\n",
    "print()\n",
    "\n",
    "print(a == 5)\n",
    "print()\n",
    "\n",
    "del a\n",
    "print()\n",
    "\n",
    "del b"
   ]
  },
  {
   "cell_type": "code",
   "execution_count": 36,
   "id": "97efae59",
   "metadata": {},
   "outputs": [
    {
     "name": "stdout",
     "output_type": "stream",
     "text": [
      "I don't know how\n",
      "Meow\n",
      "Wof\n",
      "Give me 5 $\n"
     ]
    }
   ],
   "source": [
    "class Animal:\n",
    "    def say(self):\n",
    "        print(\"I don't know how\")\n",
    "    \n",
    "class Cat(Animal):\n",
    "    def say(self):\n",
    "        print('Meow')\n",
    "        \n",
    "class Dog(Animal):\n",
    "    def say(self):\n",
    "        print('Wof')\n",
    "        \n",
    "class Human(Animal):\n",
    "    def say(self, arg):\n",
    "        print('Give me', arg, '$')\n",
    "        \n",
    "c = Cat()\n",
    "d = Dog()\n",
    "a = Animal()\n",
    "h = Human()\n",
    "\n",
    "a.say()\n",
    "c.say()\n",
    "d.say()\n",
    "# h.say() #Error\n",
    "h.say(5)"
   ]
  },
  {
   "cell_type": "markdown",
   "id": "c1c2aa17",
   "metadata": {},
   "source": [
    "## Абстракция"
   ]
  },
  {
   "cell_type": "markdown",
   "id": "f7f0d32d",
   "metadata": {},
   "source": [
    "**Абстрагирование** – это способ выделить набор значимых характеристик объекта, исключая из рассмотрения незначимые\n",
    "\n",
    "**Абстракция**– это набор всех таких характеристик"
   ]
  },
  {
   "cell_type": "code",
   "execution_count": 38,
   "id": "1d6e30f9",
   "metadata": {},
   "outputs": [],
   "source": [
    "from abc import ABC, abstractmethod"
   ]
  },
  {
   "cell_type": "code",
   "execution_count": 41,
   "id": "7a0db25f",
   "metadata": {},
   "outputs": [],
   "source": [
    "# абстрактные классы\n",
    "\n",
    "class Animal(ABC):\n",
    "    @abstractmethod\n",
    "    def move(self):\n",
    "        pass\n",
    "\n",
    "# a = Animal() \n",
    "# TypeError: Can't instantiate abstract class Animal with abstract methods move\n",
    "\n",
    "\n",
    "class Animal():\n",
    "    @abstractmethod\n",
    "    def move(self):\n",
    "        pass\n",
    "\n",
    "a = Animal()\n",
    "a.move()"
   ]
  },
  {
   "cell_type": "code",
   "execution_count": 42,
   "id": "e29ab54d",
   "metadata": {},
   "outputs": [
    {
     "name": "stdout",
     "output_type": "stream",
     "text": [
      "Animal moves\n",
      "Cat moves\n"
     ]
    }
   ],
   "source": [
    "# абстрактные методы\n",
    "\n",
    "from abc import ABC, abstractmethod\n",
    "\n",
    "class Animal(ABC):\n",
    "    @abstractmethod\n",
    "    def move(self):\n",
    "        print('Animal moves')\n",
    "\n",
    "class Cat(Animal):\n",
    "    def move(self):\n",
    "        super().move()\n",
    "        print('Cat moves')\n",
    "\n",
    "c = Cat()\n",
    "c.move()"
   ]
  },
  {
   "cell_type": "code",
   "execution_count": 43,
   "id": "145ef66a",
   "metadata": {},
   "outputs": [],
   "source": [
    "# определение абстрактного метода класса (+ что такое classmethod)\n",
    "\n",
    "from abc import ABC, abstractmethod\n",
    "\n",
    "class Animal(ABC):\n",
    "    @classmethod\n",
    "    @abstractmethod\n",
    "    def my_abstract_classmethod(cls, **kwargs):\n",
    "        pass\n",
    "        \n",
    "    @abstractmethod\n",
    "    def my_abstract_method(self, **kwargs):\n",
    "        pass\n",
    "        \n",
    "class Cat(Animal):\n",
    "    @classmethod\n",
    "    def my_abstract_classmethod(cls, **kwargs):\n",
    "        print('My abstract classmethod for Cat class')\n",
    "        \n",
    "    def my_abstract_method(self, **kwargs):\n",
    "        print('My abstract method for Cat class')"
   ]
  },
  {
   "cell_type": "code",
   "execution_count": 44,
   "id": "43864f96",
   "metadata": {},
   "outputs": [
    {
     "name": "stdout",
     "output_type": "stream",
     "text": [
      "Output classmethod\n",
      "My abstract classmethod for Cat class\n",
      "<bound method Cat.my_abstract_classmethod of <class '__main__.Cat'>>\n",
      "\n",
      "Output method\n",
      "My abstract method for Cat class\n",
      "<bound method Cat.my_abstract_method of <__main__.Cat object at 0x1069df9d0>>\n"
     ]
    }
   ],
   "source": [
    "cat = Cat()\n",
    "print('Output classmethod')\n",
    "cat.my_abstract_classmethod()\n",
    "print(cat.my_abstract_classmethod)\n",
    "print('\\nOutput method')\n",
    "cat.my_abstract_method()\n",
    "print(cat.my_abstract_method)"
   ]
  },
  {
   "cell_type": "code",
   "execution_count": 45,
   "id": "1e397ee9",
   "metadata": {},
   "outputs": [],
   "source": [
    "# абстрактные статические методы класса\n",
    "\n",
    "from abc import ABC, abstractmethod\n",
    "\n",
    "class Animal(ABC):\n",
    "    @staticmethod\n",
    "    @abstractmethod\n",
    "    def my_abstract_staticmethod(**kwargs):\n",
    "        pass\n",
    "    \n",
    "    @staticmethod\n",
    "    @abstractmethod\n",
    "    def my_abstract_staticmethod_two(**kwargs):\n",
    "        pass\n",
    "\n",
    "    \n",
    "class Cat(Animal):\n",
    "    @staticmethod\n",
    "    def my_abstract_staticmethod(**kwargs):\n",
    "        print(\"I'm static cat\")\n",
    "    \n",
    "    def my_abstract_staticmethod_two(**kwargs):\n",
    "        print(\"I'm static cat two\")"
   ]
  },
  {
   "cell_type": "code",
   "execution_count": 46,
   "id": "c42984ae",
   "metadata": {},
   "outputs": [
    {
     "name": "stdout",
     "output_type": "stream",
     "text": [
      "<function Cat.my_abstract_staticmethod at 0x1069aa840>\n",
      "I'm static cat\n",
      "<bound method Cat.my_abstract_staticmethod_two of <__main__.Cat object at 0x104a344d0>>\n",
      "I'm static cat two\n"
     ]
    }
   ],
   "source": [
    "print(Cat().my_abstract_staticmethod)\n",
    "Cat.my_abstract_staticmethod()\n",
    "\n",
    "print(Cat().my_abstract_staticmethod_two)\n",
    "Cat.my_abstract_staticmethod_two()"
   ]
  },
  {
   "cell_type": "code",
   "execution_count": null,
   "id": "2f24bb84",
   "metadata": {},
   "outputs": [],
   "source": [
    "# абстрактный дескриптор\n",
    "\n",
    "from abc import ABC, abstractmethod\n",
    "\n",
    "class C(ABC):\n",
    "    @property\n",
    "    @abstractmethod\n",
    "    def my_abstract_property(self):\n",
    "        ..."
   ]
  },
  {
   "cell_type": "code",
   "execution_count": 47,
   "id": "0c411b50",
   "metadata": {},
   "outputs": [],
   "source": [
    "# абстрактное свойство\n",
    "\n",
    "from abc import ABC, abstractmethod\n",
    "\n",
    "class C(ABC):\n",
    "    def __init__(self, val=0):\n",
    "        self.val = val\n",
    "        \n",
    "    @property\n",
    "    def x(self):\n",
    "        return self.val\n",
    "\n",
    "    @x.setter\n",
    "    @abstractmethod\n",
    "    def x(self, val):\n",
    "        self.val = val\n",
    "        \n",
    "class D(C):\n",
    "    @C.x.setter\n",
    "    def x(self, val):\n",
    "        self.val = val + 100"
   ]
  },
  {
   "cell_type": "markdown",
   "id": "07093558",
   "metadata": {},
   "source": [
    "## Метаклассы"
   ]
  },
  {
   "cell_type": "code",
   "execution_count": null,
   "id": "34daa897",
   "metadata": {},
   "outputs": [],
   "source": []
  },
  {
   "cell_type": "code",
   "execution_count": 49,
   "id": "d68c730c",
   "metadata": {},
   "outputs": [],
   "source": [
    "class MyMeta(type):\n",
    "    pass\n",
    "\n",
    "class MyClass(metaclass=MyMeta):\n",
    "    pass\n",
    "\n",
    "class MySubclass(MyClass):\n",
    "    pass"
   ]
  },
  {
   "cell_type": "code",
   "execution_count": 50,
   "id": "e9d1cf85",
   "metadata": {},
   "outputs": [
    {
     "name": "stdout",
     "output_type": "stream",
     "text": [
      "<class 'type'>\n",
      "<class '__main__.MyMeta'>\n",
      "<class '__main__.MyMeta'>\n"
     ]
    }
   ],
   "source": [
    "print(type(MyMeta))\n",
    "print(type(MyClass))\n",
    "print(type(MySubclass))"
   ]
  },
  {
   "cell_type": "code",
   "execution_count": null,
   "id": "8b626705",
   "metadata": {},
   "outputs": [],
   "source": [
    "class MetaOne(type):\n",
    "    def __new__(cls, name, bases, dict):\n",
    "        pass\n",
    "    \n",
    "class MetaTwo(type):\n",
    "    def __init__(self, name, bases, dict):\n",
    "        pass"
   ]
  },
  {
   "cell_type": "code",
   "execution_count": null,
   "id": "235b997d",
   "metadata": {},
   "outputs": [],
   "source": [
    "class SingletonMeta(type):\n",
    "    _instances = {}\n",
    "    def __call__(cls, *args, **kwargs):\n",
    "        if cls not in cls._instances:\n",
    "            cls._instances[cls] = super(SingletonMeta,cls).__call__(*args, **kwargs)\n",
    "        return cls._instances[cls]\n",
    "    \n",
    "    \n",
    "class SingletonClass(metaclass=SingletonMeta):\n",
    "    pass"
   ]
  },
  {
   "cell_type": "markdown",
   "id": "1f5ad5ad",
   "metadata": {},
   "source": [
    "## Шаблоны проектирования"
   ]
  },
  {
   "cell_type": "markdown",
   "id": "07dca270",
   "metadata": {},
   "source": [
    "### Синглтон"
   ]
  },
  {
   "cell_type": "code",
   "execution_count": 51,
   "id": "56477e4d",
   "metadata": {},
   "outputs": [],
   "source": [
    "class Singleton(type):\n",
    "    _instances = {}\n",
    "    def __call__(cls, *args, **kwargs):\n",
    "        if cls not in cls._instances:\n",
    "            instance = super().__call__(*args, **kwargs)\n",
    "            cls._instances[cls] = instance\n",
    "        return cls._instances[cls]\n",
    "    \n",
    "class Logger(metaclass=Singleton):\n",
    "    def write_log(self, path):\n",
    "        pass\n",
    "\n",
    "\n",
    "logger1 = Logger()\n",
    "logger2 = Logger()\n",
    "assert logger1 is logger2"
   ]
  },
  {
   "cell_type": "code",
   "execution_count": 52,
   "id": "90ed8e2c",
   "metadata": {},
   "outputs": [
    {
     "data": {
      "text/plain": [
       "4399697040"
      ]
     },
     "execution_count": 52,
     "metadata": {},
     "output_type": "execute_result"
    }
   ],
   "source": [
    "id(logger1)"
   ]
  },
  {
   "cell_type": "code",
   "execution_count": 53,
   "id": "142d271f",
   "metadata": {},
   "outputs": [
    {
     "data": {
      "text/plain": [
       "4399697040"
      ]
     },
     "execution_count": 53,
     "metadata": {},
     "output_type": "execute_result"
    }
   ],
   "source": [
    "id(logger2)"
   ]
  },
  {
   "cell_type": "markdown",
   "id": "d93761c0",
   "metadata": {},
   "source": [
    "### Итератор"
   ]
  },
  {
   "cell_type": "code",
   "execution_count": 54,
   "id": "3a051280",
   "metadata": {},
   "outputs": [
    {
     "name": "stdout",
     "output_type": "stream",
     "text": [
      "['First', 'Second', 'Third']\n",
      "['Third', 'Second', 'First']\n"
     ]
    }
   ],
   "source": [
    "from collections.abc import Iterator, Iterable\n",
    "\n",
    "\n",
    "class AlphabeticalOrderIterator(Iterator):\n",
    "    _position: int = None\n",
    "    _reverse: bool = False\n",
    "\n",
    "    def __init__(self, collection, reverse=False):\n",
    "        self._collection = sorted(collection)\n",
    "        self._reverse = reverse\n",
    "        self._position = -1 if reverse else 0\n",
    "\n",
    "    def __next__(self):\n",
    "        try:\n",
    "            value = self._collection[self._position]\n",
    "            self._position += -1 if self._reverse else 1\n",
    "        except IndexError:\n",
    "            raise StopIteration()\n",
    "        return value\n",
    "\n",
    "\n",
    "class WordsCollection(Iterable):\n",
    "    def __init__(self, collection):\n",
    "        self._collection = collection\n",
    "\n",
    "    def __iter__(self):\n",
    "        return AlphabeticalOrderIterator(self._collection)\n",
    "\n",
    "    def get_reverse_iterator(self):\n",
    "        return AlphabeticalOrderIterator(self._collection, True)\n",
    "\n",
    "\n",
    "wordsCollection = WordsCollection([\"Third\", \"First\", \"Second\"])\n",
    "print(list(wordsCollection))\n",
    "print(list(wordsCollection.get_reverse_iterator()))"
   ]
  },
  {
   "cell_type": "code",
   "execution_count": 57,
   "id": "d6f1d698",
   "metadata": {},
   "outputs": [
    {
     "name": "stdout",
     "output_type": "stream",
     "text": [
      "[2, 3, 5, 7, 11, 13, 17, 19, 23, 29]\n",
      "[31, 37, 41, 43, 47, 53, 59, 61, 67, 71]\n"
     ]
    }
   ],
   "source": [
    "# использование генератора\n",
    "\n",
    "def prime_generator():\n",
    "    yield 2\n",
    "    primes = [2]\n",
    "    to_check = 3\n",
    "    while True:\n",
    "        sqrt = to_check ** 0.5\n",
    "        is_prime = True\n",
    "        for prime in primes:\n",
    "            if prime > sqrt:\n",
    "                break\n",
    "            if to_check % prime == 0:\n",
    "                is_prime = False\n",
    "                break\n",
    "        if is_prime:\n",
    "            primes.append(to_check)\n",
    "            yield to_check\n",
    "        to_check += 2\n",
    "generator = prime_generator()\n",
    "print([next(generator) for _ in range(10)])\n",
    "\n",
    "print([next(generator) for _ in range(10)])"
   ]
  },
  {
   "cell_type": "markdown",
   "id": "7b80cc2f",
   "metadata": {},
   "source": [
    "### SOLID"
   ]
  },
  {
   "cell_type": "code",
   "execution_count": null,
   "id": "2aa04ffe",
   "metadata": {},
   "outputs": [],
   "source": [
    "# S\n",
    "\n",
    "# Below is Given a class which has two responsibilities \n",
    "class  User:\n",
    "    def __init__(self, name: str):\n",
    "        self.name = name\n",
    "    \n",
    "    def get_name(self) -> str:\n",
    "        pass\n",
    "\n",
    "    def save(self, user: User):\n",
    "        pass"
   ]
  },
  {
   "cell_type": "code",
   "execution_count": null,
   "id": "1e720841",
   "metadata": {},
   "outputs": [],
   "source": [
    "class User:\n",
    "    def __init__(self, name: str):\n",
    "            self.name = name\n",
    "    \n",
    "    def get_name(self):\n",
    "        pass\n",
    "\n",
    "\n",
    "class UserDB:\n",
    "    def get_user(self, id) -> User:\n",
    "        pass\n",
    "\n",
    "    def save(self, user: User):\n",
    "        pass"
   ]
  },
  {
   "cell_type": "code",
   "execution_count": null,
   "id": "16e0fe44",
   "metadata": {},
   "outputs": [],
   "source": [
    "# O\n",
    "\n",
    "class Discount:\n",
    "    def __init__(self, customer, price):\n",
    "        self.customer = customer\n",
    "        self.price = price\n",
    "        \n",
    "    def give_discount(self):\n",
    "        if self.customer == 'fav':\n",
    "            return self.price * 0.2\n",
    "        if self.customer == 'vip':\n",
    "            return self.price * 0.4"
   ]
  },
  {
   "cell_type": "code",
   "execution_count": null,
   "id": "5bfedc14",
   "metadata": {},
   "outputs": [],
   "source": [
    "class Discount:\n",
    "    def __init__(self, customer, price):\n",
    "        self.customer = customer\n",
    "        self.price = price\n",
    "    def get_discount(self):\n",
    "        return self.price * 0.2\n",
    "\n",
    "class VIPDiscount(Discount):\n",
    "    def get_discount(self):\n",
    "        return super().get_discount() * 2"
   ]
  },
  {
   "cell_type": "code",
   "execution_count": null,
   "id": "9d8706f3",
   "metadata": {},
   "outputs": [],
   "source": [
    "class SuperVIPDiscount(VIPDiscount):\n",
    "    def get_discount(self):\n",
    "        return super().get_discount() * 2"
   ]
  },
  {
   "cell_type": "code",
   "execution_count": null,
   "id": "9004dea6",
   "metadata": {},
   "outputs": [],
   "source": [
    "# L\n",
    "\n",
    "class User():\n",
    "    def __init__(self, color, board):\n",
    "        create_pieces()\n",
    "        self.color = color\n",
    "        self.board = board\n",
    "    def move(self, piece:Piece, position:int):\n",
    "        piece.move(position)\n",
    "        chessmate_check()\n",
    "        \n",
    "board = ChessBoard()\n",
    "user_white = User(\"white\", board)\n",
    "user_black = User(\"black\", board)\n",
    "pieces = user_white.pieces\n",
    "horse = helper.getHorse(user_white, 1)\n",
    "user.move(horse)"
   ]
  },
  {
   "cell_type": "code",
   "execution_count": null,
   "id": "05fa486f",
   "metadata": {},
   "outputs": [],
   "source": [
    "# I\n",
    "class IShape:\n",
    "    def draw(self):\n",
    "        raise NotImplementedError\n",
    "\n",
    "class Circle(IShape):\n",
    "    def draw(self):\n",
    "        pass\n",
    "\n",
    "class Square(IShape):\n",
    "    def draw(self):\n",
    "        pass\n",
    "\n",
    "class Rectangle(IShape):\n",
    "    def draw(self):\n",
    "        pass"
   ]
  },
  {
   "cell_type": "code",
   "execution_count": null,
   "id": "398a89c5",
   "metadata": {},
   "outputs": [],
   "source": [
    "# D\n",
    "\n",
    "class AuthenticationForUser():\n",
    "    def __init__(self, connector:Connector):\n",
    "        self.connection = connector.connect()\n",
    "        \n",
    "    def authenticate(self, credentials):\n",
    "        pass\n",
    "    def is_authenticated(self):\n",
    "        pass\n",
    "    def last_login(self):\n",
    "        pass\n",
    "\n",
    "class AnonymousAuth(AuthenticationForUser):\n",
    "    pass\n",
    "\n",
    "class GithubAuth(AuthenticationForUser):\n",
    "    def last_login(self):\n",
    "        pass\n",
    "\n",
    "class FacebookAuth(AuthenticationForUser):\n",
    "    pass\n",
    "\n",
    "class Permissions():\n",
    "    def __init__(self, auth: AuthenticationForUser):\n",
    "        self.auth = auth\n",
    "\n",
    "    def has_permissions():\n",
    "        pass\n",
    "\n",
    "class IsLoggedInPermissions(Permissions):\n",
    "    def last_login():\n",
    "        return auth.last_log"
   ]
  },
  {
   "cell_type": "code",
   "execution_count": null,
   "id": "5e2eaadc",
   "metadata": {},
   "outputs": [],
   "source": []
  },
  {
   "cell_type": "code",
   "execution_count": null,
   "id": "d5025dab",
   "metadata": {},
   "outputs": [],
   "source": []
  }
 ],
 "metadata": {
  "kernelspec": {
   "display_name": "Python 3 (ipykernel)",
   "language": "python",
   "name": "python3"
  },
  "language_info": {
   "codemirror_mode": {
    "name": "ipython",
    "version": 3
   },
   "file_extension": ".py",
   "mimetype": "text/x-python",
   "name": "python",
   "nbconvert_exporter": "python",
   "pygments_lexer": "ipython3",
   "version": "3.11.1"
  }
 },
 "nbformat": 4,
 "nbformat_minor": 5
}
